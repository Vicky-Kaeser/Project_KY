{
 "cells": [
  {
   "cell_type": "markdown",
   "metadata": {},
   "source": [
    "# CDC Social Vulnerability Index (SVI)--How do Jefferson Counties/Tracts Fair within the State of Kentucky?\n",
    "\n",
    "Eduviges (Vicky) Kaeser"
   ]
  },
  {
   "cell_type": "markdown",
   "metadata": {},
   "source": [
    "![CDC](https://www.cdc.gov/homepage/images/cdc-in-action/about-cdc.jpg)"
   ]
  },
  {
   "cell_type": "markdown",
   "metadata": {},
   "source": [
    "## I.  Introduction\n",
    "\n",
    "The Merriam-Webster Dictionary defines social and vulnerable as follows:\n",
    "\n",
    "- so·​cial | \\ ˈsō-shəl, adj: of or relating to human society, the interaction of the individual and the group, or the welfare of human beings as members of society\n",
    "\n",
    "- vul·​ner·​a·​ble | \\ ˈvəl-n(ə-)rə-bəl, adj: capable of being physically or emotionally wounded\n",
    "\n",
    "###### Merriam-Webster.com. 2021. https://www.merriam-webster.com (21 March 2021).\n",
    "\n",
    "The CDC SVI refers to social vulnerability as the potential negative effects on communities caused by external stressers on human health and furthermore that by reducing social vulnerability human suffering and economic losses could improve.\n",
    "\n",
    "What is the CDC Social Vulnerabiity Index? The CDC SVI is a tool, which uses U.S. Census data (American Community Survey data) to determine the social vulnerability of every census tract. Census Tracts are subdivisions of counties for which the Census collects statistical data. The first version of the SVI was created in 2011 by ATSDR's Geospatial Research, Analysis, and Services Program and GRASP continues to create and maintains it. The tracts are ranked on fifteen social factors, four themes and overall rankings (see image below). This project utilizes 2014, 2016, and 2018 data to analize Jefferson tracts' vulnerability at the different .....  \n",
    "\n",
    "![CDC SVI](https://www.atsdr.cdc.gov/placeandhealth/svi/documentation/pdf/Documentation_Image.jpg)\n"
   ]
  },
  {
   "cell_type": "markdown",
   "metadata": {},
   "source": [
    "Many thanks to the [Centers for Disease Control and Prevention](https://www.cdc.gov/about/default.htm)/ [Agency for Toxic Substances and Disease Registry](https://www.atsdr.cdc.gov/placeandhealth/howdoesPlaceaffectHealth.html)/ [Geospatial Research, Analysis, and Services Program](https://www.atsdr.cdc.gov/placeandhealth/about_grasp.html), for the CDC Social Vulnerability Index 2014, 2016, and 2018 Databases -- Kentucky, accessed on March 21, 2021. https://www.atsdr.cdc.gov/placeandhealth/svi/data_documentation_download.html. \n"
   ]
  },
  {
   "cell_type": "markdown",
   "metadata": {},
   "source": [
    "When interpreting the CDC SVI ranking for a census tract remember that a percentile ranking represents the proportion of tracts that are equal to or lower than a tract (or county) of interest in terms of social vulnerability. For example, a CDC SVI ranking of 0.85 signifies that 85% of tracts (or counties) in the state or nation are less vulnerable than the tract (or county) of interest and that 15% of tracts (or counties) in the state or nation are more vulnerable."
   ]
  },
  {
   "cell_type": "markdown",
   "metadata": {},
   "source": [
    "## II. Importing Data\n",
    "###### [CDC SVI Data Downloads](https://www.atsdr.cdc.gov/placeandhealth/svi/data_documentation_download.html.)"
   ]
  },
  {
   "cell_type": "code",
   "execution_count": 1,
   "metadata": {},
   "outputs": [],
   "source": [
    "#import pandas to be able to read the data frame, after downloading it from the site, click on the link above to view the original site\n",
    "\n",
    "import pandas as pd\n",
    "import numpy as np"
   ]
  },
  {
   "cell_type": "code",
   "execution_count": 2,
   "metadata": {},
   "outputs": [
    {
     "data": {
      "text/plain": [
       "'C:\\\\Users\\\\Vicky\\\\Downloads\\\\ProjectKY'"
      ]
     },
     "execution_count": 2,
     "metadata": {},
     "output_type": "execute_result"
    }
   ],
   "source": [
    "#verify if you are in the correct directory\n",
    "\n",
    "import os\n",
    "os.getcwd()"
   ]
  },
  {
   "cell_type": "code",
   "execution_count": 3,
   "metadata": {},
   "outputs": [],
   "source": [
    "#if needed reset max and min columns and rows to reduce the quantity displayed\n",
    "\n",
    "pd.reset_option('display.max_rows') \n",
    "pd.reset_option('display.min_rows') \n",
    "pd.reset_option('display.max_columns')"
   ]
  },
  {
   "cell_type": "code",
   "execution_count": 4,
   "metadata": {},
   "outputs": [
    {
     "data": {
      "text/plain": [
       "FID             int64\n",
       "AFFGEOID       object\n",
       "TRACTCE         int64\n",
       "ST              int64\n",
       "STATE          object\n",
       "               ...   \n",
       "E_UNINSUR     float64\n",
       "M_UNINSUR     float64\n",
       "EP_UNINSUR    float64\n",
       "MP_UNINSUR    float64\n",
       "E_DAYPOP      float64\n",
       "Length: 127, dtype: object"
      ]
     },
     "execution_count": 4,
     "metadata": {},
     "output_type": "execute_result"
    }
   ],
   "source": [
    "#using panda to read csv plus call dtypes to get the data type for each column. Note the year, 2014. Years 2016 and 2018 will also be imported for this project. The original data 1115 rows × 127 columns\n",
    "\n",
    "ky2014_df = pd.read_csv('Kentucky2014.csv' )\n",
    "ky2014_df\n",
    "ky2014_df.dtypes"
   ]
  },
  {
   "cell_type": "markdown",
   "metadata": {},
   "source": [
    "## III. Cleaning Data"
   ]
  },
  {
   "cell_type": "code",
   "execution_count": 5,
   "metadata": {},
   "outputs": [],
   "source": [
    "#unique id from when it was first created\n",
    "\n",
    "#ky2014_df['COUNTY'].unique()"
   ]
  },
  {
   "cell_type": "code",
   "execution_count": 6,
   "metadata": {},
   "outputs": [
    {
     "data": {
      "text/plain": [
       "33"
      ]
     },
     "execution_count": 6,
     "metadata": {},
     "output_type": "execute_result"
    }
   ],
   "source": [
    "#DataFrame, selecting Jefferson County from KY data, replaced uncalculable -9.99e+02 with Nan (0 TOTPOP or unavailable value). These processes ware the same for 2014, 2016, and 2018 and a count for possible later use\n",
    "\n",
    "jeff2014_df = ky2014_df[ky2014_df['COUNTY'] == ' Jefferson']\n",
    "jeff2014_df = jeff2014_df.replace( -9.99e+02, np.NaN)\n",
    "jeff2014_df.isna().sum().sum()"
   ]
  },
  {
   "cell_type": "code",
   "execution_count": 7,
   "metadata": {},
   "outputs": [],
   "source": [
    "#to be use only when and if comparing tracts in the West End\n",
    "\n",
    "#west9_2014_df = ky2014_df[ky2014_df['COUNTY'] == ' Jefferson']\n",
    "#west9_2014_df = pd.DataFrame{'FIPS': [2111100200, 2111100300, 2111100400, 21111002100, 21111002300, 21111003000, 21111002400, 2111100600, 2111100700, 2111100800, 2111100900, 21111001100, 21111001000, 21111001800, 21111001700, 21111002700, 21111001200, 21111001400, 21111001500, 21111001600, 21111002800, 21111003500] })\n",
    "#print(west9_2014_df)"
   ]
  },
  {
   "cell_type": "code",
   "execution_count": 8,
   "metadata": {},
   "outputs": [],
   "source": [
    "#to view all the rows and coluns in the data frame\n",
    "\n",
    "#pd.set_option('display.max_columns', 200)\n",
    "#pd.set_option('display.max_rows', 200)\n",
    "#pd.set_option('display.min_rows', 10)"
   ]
  },
  {
   "cell_type": "code",
   "execution_count": 9,
   "metadata": {},
   "outputs": [
    {
     "data": {
      "text/html": [
       "<div>\n",
       "<style scoped>\n",
       "    .dataframe tbody tr th:only-of-type {\n",
       "        vertical-align: middle;\n",
       "    }\n",
       "\n",
       "    .dataframe tbody tr th {\n",
       "        vertical-align: top;\n",
       "    }\n",
       "\n",
       "    .dataframe thead th {\n",
       "        text-align: right;\n",
       "    }\n",
       "</style>\n",
       "<table border=\"1\" class=\"dataframe\">\n",
       "  <thead>\n",
       "    <tr style=\"text-align: right;\">\n",
       "      <th></th>\n",
       "      <th>FIPS</th>\n",
       "      <th>COUNTY</th>\n",
       "      <th>LOCATION</th>\n",
       "      <th>AREA_SQMI</th>\n",
       "      <th>E_TOTPOP</th>\n",
       "      <th>M_TOTPOP</th>\n",
       "      <th>E_POV</th>\n",
       "      <th>M_POV</th>\n",
       "      <th>EP_POV</th>\n",
       "      <th>MP_POV</th>\n",
       "      <th>...</th>\n",
       "      <th>M_NOHSDP</th>\n",
       "      <th>EP_NOHSDP</th>\n",
       "      <th>MP_NOHSDP</th>\n",
       "      <th>EPL_NOHSDP</th>\n",
       "      <th>F_NOHSDP</th>\n",
       "      <th>F_THEME1</th>\n",
       "      <th>SPL_THEME1</th>\n",
       "      <th>RPL_THEME1</th>\n",
       "      <th>SPL_THEMES</th>\n",
       "      <th>RPL_THEMES</th>\n",
       "    </tr>\n",
       "  </thead>\n",
       "  <tbody>\n",
       "    <tr>\n",
       "      <th>0</th>\n",
       "      <td>21111000200</td>\n",
       "      <td>Jefferson</td>\n",
       "      <td>Census Tract 2, Jefferson County, Kentucky</td>\n",
       "      <td>1.135250</td>\n",
       "      <td>2792.0</td>\n",
       "      <td>386.0</td>\n",
       "      <td>1104.0</td>\n",
       "      <td>352.0</td>\n",
       "      <td>43.1</td>\n",
       "      <td>10.1</td>\n",
       "      <td>...</td>\n",
       "      <td>130.0</td>\n",
       "      <td>30.8</td>\n",
       "      <td>7.0</td>\n",
       "      <td>0.9004</td>\n",
       "      <td>1.0</td>\n",
       "      <td>4.0</td>\n",
       "      <td>3.8060</td>\n",
       "      <td>0.9901</td>\n",
       "      <td>10.5825</td>\n",
       "      <td>0.9531</td>\n",
       "    </tr>\n",
       "    <tr>\n",
       "      <th>1</th>\n",
       "      <td>21111000400</td>\n",
       "      <td>Jefferson</td>\n",
       "      <td>Census Tract 4, Jefferson County, Kentucky</td>\n",
       "      <td>1.108256</td>\n",
       "      <td>5113.0</td>\n",
       "      <td>435.0</td>\n",
       "      <td>1342.0</td>\n",
       "      <td>319.0</td>\n",
       "      <td>26.3</td>\n",
       "      <td>5.9</td>\n",
       "      <td>...</td>\n",
       "      <td>145.0</td>\n",
       "      <td>19.1</td>\n",
       "      <td>4.2</td>\n",
       "      <td>0.5844</td>\n",
       "      <td>0.0</td>\n",
       "      <td>0.0</td>\n",
       "      <td>2.9280</td>\n",
       "      <td>0.7908</td>\n",
       "      <td>10.0680</td>\n",
       "      <td>0.9134</td>\n",
       "    </tr>\n",
       "    <tr>\n",
       "      <th>2</th>\n",
       "      <td>21111000600</td>\n",
       "      <td>Jefferson</td>\n",
       "      <td>Census Tract 6, Jefferson County, Kentucky</td>\n",
       "      <td>0.457008</td>\n",
       "      <td>1640.0</td>\n",
       "      <td>251.0</td>\n",
       "      <td>750.0</td>\n",
       "      <td>266.0</td>\n",
       "      <td>46.5</td>\n",
       "      <td>11.4</td>\n",
       "      <td>...</td>\n",
       "      <td>87.0</td>\n",
       "      <td>22.3</td>\n",
       "      <td>8.4</td>\n",
       "      <td>0.6957</td>\n",
       "      <td>0.0</td>\n",
       "      <td>3.0</td>\n",
       "      <td>3.6210</td>\n",
       "      <td>0.9603</td>\n",
       "      <td>11.5115</td>\n",
       "      <td>0.9874</td>\n",
       "    </tr>\n",
       "    <tr>\n",
       "      <th>3</th>\n",
       "      <td>21111000700</td>\n",
       "      <td>Jefferson</td>\n",
       "      <td>Census Tract 7, Jefferson County, Kentucky</td>\n",
       "      <td>0.351949</td>\n",
       "      <td>2882.0</td>\n",
       "      <td>385.0</td>\n",
       "      <td>1044.0</td>\n",
       "      <td>281.0</td>\n",
       "      <td>36.2</td>\n",
       "      <td>8.0</td>\n",
       "      <td>...</td>\n",
       "      <td>152.0</td>\n",
       "      <td>20.6</td>\n",
       "      <td>7.6</td>\n",
       "      <td>0.6346</td>\n",
       "      <td>0.0</td>\n",
       "      <td>2.0</td>\n",
       "      <td>3.3656</td>\n",
       "      <td>0.9071</td>\n",
       "      <td>10.0694</td>\n",
       "      <td>0.9143</td>\n",
       "    </tr>\n",
       "    <tr>\n",
       "      <th>4</th>\n",
       "      <td>21111000900</td>\n",
       "      <td>Jefferson</td>\n",
       "      <td>Census Tract 9, Jefferson County, Kentucky</td>\n",
       "      <td>0.247888</td>\n",
       "      <td>2057.0</td>\n",
       "      <td>262.0</td>\n",
       "      <td>462.0</td>\n",
       "      <td>137.0</td>\n",
       "      <td>22.5</td>\n",
       "      <td>7.5</td>\n",
       "      <td>...</td>\n",
       "      <td>89.0</td>\n",
       "      <td>16.5</td>\n",
       "      <td>5.9</td>\n",
       "      <td>0.4856</td>\n",
       "      <td>0.0</td>\n",
       "      <td>1.0</td>\n",
       "      <td>2.9329</td>\n",
       "      <td>0.7917</td>\n",
       "      <td>8.9050</td>\n",
       "      <td>0.7764</td>\n",
       "    </tr>\n",
       "  </tbody>\n",
       "</table>\n",
       "<p>5 rows × 35 columns</p>\n",
       "</div>"
      ],
      "text/plain": [
       "          FIPS      COUNTY                                    LOCATION  \\\n",
       "0  21111000200   Jefferson  Census Tract 2, Jefferson County, Kentucky   \n",
       "1  21111000400   Jefferson  Census Tract 4, Jefferson County, Kentucky   \n",
       "2  21111000600   Jefferson  Census Tract 6, Jefferson County, Kentucky   \n",
       "3  21111000700   Jefferson  Census Tract 7, Jefferson County, Kentucky   \n",
       "4  21111000900   Jefferson  Census Tract 9, Jefferson County, Kentucky   \n",
       "\n",
       "   AREA_SQMI  E_TOTPOP  M_TOTPOP   E_POV  M_POV  EP_POV  MP_POV  ...  \\\n",
       "0   1.135250    2792.0     386.0  1104.0  352.0    43.1    10.1  ...   \n",
       "1   1.108256    5113.0     435.0  1342.0  319.0    26.3     5.9  ...   \n",
       "2   0.457008    1640.0     251.0   750.0  266.0    46.5    11.4  ...   \n",
       "3   0.351949    2882.0     385.0  1044.0  281.0    36.2     8.0  ...   \n",
       "4   0.247888    2057.0     262.0   462.0  137.0    22.5     7.5  ...   \n",
       "\n",
       "   M_NOHSDP  EP_NOHSDP  MP_NOHSDP  EPL_NOHSDP  F_NOHSDP  F_THEME1  SPL_THEME1  \\\n",
       "0     130.0       30.8        7.0      0.9004       1.0       4.0      3.8060   \n",
       "1     145.0       19.1        4.2      0.5844       0.0       0.0      2.9280   \n",
       "2      87.0       22.3        8.4      0.6957       0.0       3.0      3.6210   \n",
       "3     152.0       20.6        7.6      0.6346       0.0       2.0      3.3656   \n",
       "4      89.0       16.5        5.9      0.4856       0.0       1.0      2.9329   \n",
       "\n",
       "   RPL_THEME1  SPL_THEMES  RPL_THEMES  \n",
       "0      0.9901     10.5825      0.9531  \n",
       "1      0.7908     10.0680      0.9134  \n",
       "2      0.9603     11.5115      0.9874  \n",
       "3      0.9071     10.0694      0.9143  \n",
       "4      0.7917      8.9050      0.7764  \n",
       "\n",
       "[5 rows x 35 columns]"
      ]
     },
     "execution_count": 9,
     "metadata": {},
     "output_type": "execute_result"
    }
   ],
   "source": [
    "#from jeff2014 new soc_econ2014 data frame to segregate the four factors estimates within the Socioeconomic theme and its RPL_THEME1 (percentile ranking), and the RPL_THEMES (overall ranking). New index was created. The same processes are used for all 4 theams and for years 2014, 2016, and 2018\n",
    "\n",
    "soc_econ2014_df = jeff2014_df.loc[ : , ('FIPS', 'COUNTY', 'LOCATION', 'AREA_SQMI', 'E_TOTPOP', 'M_TOTPOP', 'E_POV', 'M_POV', 'EP_POV', 'MP_POV', 'EPL_POV', 'F_POV', 'E_UNEMP', 'M_UNEMP', 'EP_UNEMP', 'MP_UNEMP', 'EPL_UNEMP', 'F_UNEMP', 'E_PCI', 'M_PCI', 'EP_PCI', 'MP_PCI', 'EPL_PCI', 'F_PCI', 'E_NOHSDP', 'M_NOHSDP', 'EP_NOHSDP', 'MP_NOHSDP', 'EPL_NOHSDP', 'F_NOHSDP', 'F_THEME1', 'SPL_THEME1', 'RPL_THEME1', 'SPL_THEMES', 'RPL_THEMES' )]\n",
    "soc_econ2014_df.index = range(len(soc_econ2014_df.index))\n",
    "soc_econ2014_df.head()\n"
   ]
  },
  {
   "cell_type": "code",
   "execution_count": 10,
   "metadata": {},
   "outputs": [
    {
     "data": {
      "text/plain": [
       "AREA_SQMI       380.430993\n",
       "E_TOTPOP     751485.000000\n",
       "M_TOTPOP      67018.000000\n",
       "dtype: float64"
      ]
     },
     "execution_count": 10,
     "metadata": {},
     "output_type": "execute_result"
    }
   ],
   "source": [
    "#sum area squaremiles and total population estimates to confirm Jefferson County numbers. The same processes are used for all 4 thems and for years 2014, 2016, and 2018\n",
    "#an increase in total population between 2014 and 2016 stands at 8,239 and 7,430 by 2018 for an estimated combined increase  of 15,669 with a 10% margin of error\n",
    "soc_econ2014_df.loc[ : , ('AREA_SQMI', 'E_TOTPOP', 'M_TOTPOP')].sum()"
   ]
  },
  {
   "cell_type": "code",
   "execution_count": 11,
   "metadata": {},
   "outputs": [
    {
     "data": {
      "text/plain": [
       "E_POV         644.738220\n",
       "M_POV         251.136126\n",
       "E_UNEMP       191.664921\n",
       "M_UNEMP        94.319372\n",
       "E_PCI       27589.442105\n",
       "M_PCI        3651.731579\n",
       "E_NOHSDP      315.691099\n",
       "M_NOHSDP      116.455497\n",
       "dtype: float64"
      ]
     },
     "execution_count": 11,
     "metadata": {},
     "output_type": "execute_result"
    }
   ],
   "source": [
    "#finding the mean of the four factor estimates in preparation for Data Visualization later in this project. The same processes are used for all 4 theams and for years 2014, 2016, and 2018\n",
    "soc_econ2014_df.loc[ : , ('E_POV', 'M_POV', 'E_UNEMP', 'M_UNEMP', 'E_PCI', 'M_PCI', 'E_NOHSDP', 'M_NOHSDP')].mean()"
   ]
  },
  {
   "cell_type": "code",
   "execution_count": 12,
   "metadata": {},
   "outputs": [
    {
     "data": {
      "text/plain": [
       "FID             int64\n",
       "ST              int64\n",
       "STATE          object\n",
       "ST_ABBR        object\n",
       "STCNTY          int64\n",
       "               ...   \n",
       "E_UNINSUR     float64\n",
       "M_UNINSUR     float64\n",
       "EP_UNINSUR    float64\n",
       "MP_UNINSUR    float64\n",
       "E_DAYPOP      float64\n",
       "Length: 125, dtype: object"
      ]
     },
     "execution_count": 12,
     "metadata": {},
     "output_type": "execute_result"
    }
   ],
   "source": [
    "##using panda to read csv plus call dtypes to get the data type for each column. Note the years 2014, 2016, and 2018 will be imported for this project. The original data 1115 rows × 127 columns\n",
    "\n",
    "ky2016_df = pd.read_csv('Kentucky2016.csv' )\n",
    "ky2016_df.head()\n",
    "ky2016_df.dtypes"
   ]
  },
  {
   "cell_type": "code",
   "execution_count": 13,
   "metadata": {},
   "outputs": [
    {
     "data": {
      "text/plain": [
       "array(['Boone', 'Bullitt', 'Christian', 'Jefferson', 'Lyon', 'Trigg',\n",
       "       'Adair', 'Allen', 'Anderson', 'Ballard', 'Barren', 'Bath', 'Bell',\n",
       "       'Bourbon', 'Boyd', 'Boyle', 'Bracken', 'Breathitt', 'Breckinridge',\n",
       "       'Butler', 'Caldwell', 'Calloway', 'Campbell', 'Carlisle',\n",
       "       'Carroll', 'Carter', 'Casey', 'Clark', 'Clay', 'Clinton',\n",
       "       'Crittenden', 'Cumberland', 'Daviess', 'Edmonson', 'Elliott',\n",
       "       'Estill', 'Fayette', 'Fleming', 'Floyd', 'Franklin', 'Fulton',\n",
       "       'Gallatin', 'Garrard', 'Grant', 'Graves', 'Grayson', 'Green',\n",
       "       'Greenup', 'Hancock', 'Hardin', 'Harlan', 'Harrison', 'Hart',\n",
       "       'Henderson', 'Henry', 'Hickman', 'Hopkins', 'Jackson', 'Jessamine',\n",
       "       'Johnson', 'Kenton', 'Knott', 'Knox', 'Larue', 'Laurel',\n",
       "       'Lawrence', 'Lee', 'Leslie', 'Letcher', 'Lewis', 'Lincoln',\n",
       "       'Livingston', 'Logan', 'McCracken', 'McCreary', 'McLean',\n",
       "       'Madison', 'Magoffin', 'Marion', 'Marshall', 'Martin', 'Mason',\n",
       "       'Meade', 'Menifee', 'Mercer', 'Metcalfe', 'Monroe', 'Montgomery',\n",
       "       'Morgan', 'Muhlenberg', 'Nelson', 'Nicholas', 'Ohio', 'Oldham',\n",
       "       'Owen', 'Owsley', 'Pendleton', 'Perry', 'Pike', 'Powell',\n",
       "       'Pulaski', 'Robertson', 'Rockcastle', 'Rowan', 'Russell', 'Scott',\n",
       "       'Shelby', 'Simpson', 'Spencer', 'Taylor', 'Todd', 'Trimble',\n",
       "       'Union', 'Warren', 'Washington', 'Wayne', 'Webster', 'Whitley',\n",
       "       'Wolfe', 'Woodford'], dtype=object)"
      ]
     },
     "execution_count": 13,
     "metadata": {},
     "output_type": "execute_result"
    }
   ],
   "source": [
    "##unique id from when it was first created. Note the id is different for 2016 and for 2018 vs 2014 data\n",
    "\n",
    "ky2016_df['COUNTY'].unique()\n",
    "#ky2016_df.head()"
   ]
  },
  {
   "cell_type": "code",
   "execution_count": 14,
   "metadata": {},
   "outputs": [
    {
     "data": {
      "text/plain": [
       "72"
      ]
     },
     "execution_count": 14,
     "metadata": {},
     "output_type": "execute_result"
    }
   ],
   "source": [
    "#DataFrame, selecting Jefferson County from KY data, replaced uncalculable -9.99e+02 with Nan (0 TOTPOP or unavailable value). These processes ware the same for 2014, 2016, and 2018 and a count for possible later use\n",
    "\n",
    "jeff2016_df = ky2016_df[ky2016_df['COUNTY'] == 'Jefferson']\n",
    "jeff2016_df = jeff2016_df.replace( -9.99e+02, np.NaN)\n",
    "jeff2016_df.isna().sum().sum()"
   ]
  },
  {
   "cell_type": "code",
   "execution_count": 15,
   "metadata": {},
   "outputs": [
    {
     "data": {
      "text/html": [
       "<div>\n",
       "<style scoped>\n",
       "    .dataframe tbody tr th:only-of-type {\n",
       "        vertical-align: middle;\n",
       "    }\n",
       "\n",
       "    .dataframe tbody tr th {\n",
       "        vertical-align: top;\n",
       "    }\n",
       "\n",
       "    .dataframe thead th {\n",
       "        text-align: right;\n",
       "    }\n",
       "</style>\n",
       "<table border=\"1\" class=\"dataframe\">\n",
       "  <thead>\n",
       "    <tr style=\"text-align: right;\">\n",
       "      <th></th>\n",
       "      <th>FIPS</th>\n",
       "      <th>COUNTY</th>\n",
       "      <th>LOCATION</th>\n",
       "      <th>AREA_SQMI</th>\n",
       "      <th>E_TOTPOP</th>\n",
       "      <th>M_TOTPOP</th>\n",
       "      <th>E_POV</th>\n",
       "      <th>M_POV</th>\n",
       "      <th>EP_POV</th>\n",
       "      <th>MP_POV</th>\n",
       "      <th>...</th>\n",
       "      <th>M_NOHSDP</th>\n",
       "      <th>EP_NOHSDP</th>\n",
       "      <th>MP_NOHSDP</th>\n",
       "      <th>EPL_NOHSDP</th>\n",
       "      <th>F_NOHSDP</th>\n",
       "      <th>F_THEME1</th>\n",
       "      <th>SPL_THEME1</th>\n",
       "      <th>RPL_THEME1</th>\n",
       "      <th>SPL_THEMES</th>\n",
       "      <th>RPL_THEMES</th>\n",
       "    </tr>\n",
       "  </thead>\n",
       "  <tbody>\n",
       "    <tr>\n",
       "      <th>0</th>\n",
       "      <td>21111980100</td>\n",
       "      <td>Jefferson</td>\n",
       "      <td>Census Tract 9801, Jefferson County, Kentucky</td>\n",
       "      <td>6.694971</td>\n",
       "      <td>0.0</td>\n",
       "      <td>11.0</td>\n",
       "      <td>0.0</td>\n",
       "      <td>11.0</td>\n",
       "      <td>NaN</td>\n",
       "      <td>NaN</td>\n",
       "      <td>...</td>\n",
       "      <td>11.0</td>\n",
       "      <td>NaN</td>\n",
       "      <td>NaN</td>\n",
       "      <td>NaN</td>\n",
       "      <td>NaN</td>\n",
       "      <td>NaN</td>\n",
       "      <td>NaN</td>\n",
       "      <td>NaN</td>\n",
       "      <td>NaN</td>\n",
       "      <td>NaN</td>\n",
       "    </tr>\n",
       "    <tr>\n",
       "      <th>1</th>\n",
       "      <td>21111000300</td>\n",
       "      <td>Jefferson</td>\n",
       "      <td>Census Tract 3, Jefferson County, Kentucky</td>\n",
       "      <td>0.649123</td>\n",
       "      <td>2371.0</td>\n",
       "      <td>451.0</td>\n",
       "      <td>847.0</td>\n",
       "      <td>278.0</td>\n",
       "      <td>35.9</td>\n",
       "      <td>11.6</td>\n",
       "      <td>...</td>\n",
       "      <td>158.0</td>\n",
       "      <td>30.7</td>\n",
       "      <td>8.4</td>\n",
       "      <td>0.9250</td>\n",
       "      <td>1.0</td>\n",
       "      <td>3.0</td>\n",
       "      <td>3.7569</td>\n",
       "      <td>0.9801</td>\n",
       "      <td>10.3190</td>\n",
       "      <td>0.9411</td>\n",
       "    </tr>\n",
       "    <tr>\n",
       "      <th>2</th>\n",
       "      <td>21111000400</td>\n",
       "      <td>Jefferson</td>\n",
       "      <td>Census Tract 4, Jefferson County, Kentucky</td>\n",
       "      <td>1.108256</td>\n",
       "      <td>5160.0</td>\n",
       "      <td>557.0</td>\n",
       "      <td>1505.0</td>\n",
       "      <td>431.0</td>\n",
       "      <td>29.3</td>\n",
       "      <td>7.1</td>\n",
       "      <td>...</td>\n",
       "      <td>126.0</td>\n",
       "      <td>15.7</td>\n",
       "      <td>3.6</td>\n",
       "      <td>0.5194</td>\n",
       "      <td>0.0</td>\n",
       "      <td>1.0</td>\n",
       "      <td>3.1172</td>\n",
       "      <td>0.8451</td>\n",
       "      <td>9.9929</td>\n",
       "      <td>0.9148</td>\n",
       "    </tr>\n",
       "    <tr>\n",
       "      <th>3</th>\n",
       "      <td>21111000600</td>\n",
       "      <td>Jefferson</td>\n",
       "      <td>Census Tract 6, Jefferson County, Kentucky</td>\n",
       "      <td>0.457008</td>\n",
       "      <td>1771.0</td>\n",
       "      <td>219.0</td>\n",
       "      <td>680.0</td>\n",
       "      <td>234.0</td>\n",
       "      <td>38.5</td>\n",
       "      <td>11.2</td>\n",
       "      <td>...</td>\n",
       "      <td>83.0</td>\n",
       "      <td>23.5</td>\n",
       "      <td>7.9</td>\n",
       "      <td>0.7742</td>\n",
       "      <td>0.0</td>\n",
       "      <td>3.0</td>\n",
       "      <td>3.6413</td>\n",
       "      <td>0.9611</td>\n",
       "      <td>11.4808</td>\n",
       "      <td>0.9873</td>\n",
       "    </tr>\n",
       "    <tr>\n",
       "      <th>4</th>\n",
       "      <td>21111000700</td>\n",
       "      <td>Jefferson</td>\n",
       "      <td>Census Tract 7, Jefferson County, Kentucky</td>\n",
       "      <td>0.351949</td>\n",
       "      <td>2685.0</td>\n",
       "      <td>355.0</td>\n",
       "      <td>992.0</td>\n",
       "      <td>310.0</td>\n",
       "      <td>36.9</td>\n",
       "      <td>9.3</td>\n",
       "      <td>...</td>\n",
       "      <td>101.0</td>\n",
       "      <td>15.3</td>\n",
       "      <td>6.0</td>\n",
       "      <td>0.4968</td>\n",
       "      <td>0.0</td>\n",
       "      <td>3.0</td>\n",
       "      <td>3.2854</td>\n",
       "      <td>0.8822</td>\n",
       "      <td>9.3210</td>\n",
       "      <td>0.8386</td>\n",
       "    </tr>\n",
       "  </tbody>\n",
       "</table>\n",
       "<p>5 rows × 35 columns</p>\n",
       "</div>"
      ],
      "text/plain": [
       "          FIPS     COUNTY                                       LOCATION  \\\n",
       "0  21111980100  Jefferson  Census Tract 9801, Jefferson County, Kentucky   \n",
       "1  21111000300  Jefferson     Census Tract 3, Jefferson County, Kentucky   \n",
       "2  21111000400  Jefferson     Census Tract 4, Jefferson County, Kentucky   \n",
       "3  21111000600  Jefferson     Census Tract 6, Jefferson County, Kentucky   \n",
       "4  21111000700  Jefferson     Census Tract 7, Jefferson County, Kentucky   \n",
       "\n",
       "   AREA_SQMI  E_TOTPOP  M_TOTPOP   E_POV  M_POV  EP_POV  MP_POV  ...  \\\n",
       "0   6.694971       0.0      11.0     0.0   11.0     NaN     NaN  ...   \n",
       "1   0.649123    2371.0     451.0   847.0  278.0    35.9    11.6  ...   \n",
       "2   1.108256    5160.0     557.0  1505.0  431.0    29.3     7.1  ...   \n",
       "3   0.457008    1771.0     219.0   680.0  234.0    38.5    11.2  ...   \n",
       "4   0.351949    2685.0     355.0   992.0  310.0    36.9     9.3  ...   \n",
       "\n",
       "   M_NOHSDP  EP_NOHSDP  MP_NOHSDP  EPL_NOHSDP  F_NOHSDP  F_THEME1  SPL_THEME1  \\\n",
       "0      11.0        NaN        NaN         NaN       NaN       NaN         NaN   \n",
       "1     158.0       30.7        8.4      0.9250       1.0       3.0      3.7569   \n",
       "2     126.0       15.7        3.6      0.5194       0.0       1.0      3.1172   \n",
       "3      83.0       23.5        7.9      0.7742       0.0       3.0      3.6413   \n",
       "4     101.0       15.3        6.0      0.4968       0.0       3.0      3.2854   \n",
       "\n",
       "   RPL_THEME1  SPL_THEMES  RPL_THEMES  \n",
       "0         NaN         NaN         NaN  \n",
       "1      0.9801     10.3190      0.9411  \n",
       "2      0.8451      9.9929      0.9148  \n",
       "3      0.9611     11.4808      0.9873  \n",
       "4      0.8822      9.3210      0.8386  \n",
       "\n",
       "[5 rows x 35 columns]"
      ]
     },
     "execution_count": 15,
     "metadata": {},
     "output_type": "execute_result"
    }
   ],
   "source": [
    "#from jeff(year) new soc_econ(matching year) data frame to segregate the four factors estimates within the Socioeconomic theme and its RPL_THEME(#) (theme(#) percentile ranking), and the corresponding RPL_THEMES (overall ranking). New index was created. The same processes are used for all 4 theams and for years 2014, 2016, and 2018\n",
    "\n",
    "soc_econ2016_df = jeff2016_df.loc[ : , ('FIPS', 'COUNTY', 'LOCATION', 'AREA_SQMI', 'E_TOTPOP', 'M_TOTPOP', 'E_POV', 'M_POV', 'EP_POV', 'MP_POV', 'EPL_POV', 'F_POV','E_UNEMP', 'M_UNEMP', 'EP_UNEMP', 'MP_UNEMP', 'EPL_UNEMP', 'F_UNEMP', 'E_PCI', 'M_PCI', 'EP_PCI', 'MP_PCI', 'EPL_PCI', 'F_PCI', 'E_NOHSDP', 'M_NOHSDP', 'EP_NOHSDP', 'MP_NOHSDP', 'EPL_NOHSDP', 'F_NOHSDP', 'F_THEME1', 'SPL_THEME1', 'RPL_THEME1', 'SPL_THEMES', 'RPL_THEMES')]\n",
    "soc_econ2016_df.index = range(len(soc_econ2016_df.index))\n",
    "soc_econ2016_df.head()"
   ]
  },
  {
   "cell_type": "code",
   "execution_count": 16,
   "metadata": {},
   "outputs": [
    {
     "data": {
      "text/plain": [
       "AREA_SQMI       380.475579\n",
       "E_TOTPOP     759724.000000\n",
       "M_TOTPOP      66396.000000\n",
       "dtype: float64"
      ]
     },
     "execution_count": 16,
     "metadata": {},
     "output_type": "execute_result"
    }
   ],
   "source": [
    "soc_econ2016_df.loc[ : , ('AREA_SQMI', 'E_TOTPOP', 'M_TOTPOP')].sum()"
   ]
  },
  {
   "cell_type": "code",
   "execution_count": 17,
   "metadata": {},
   "outputs": [
    {
     "data": {
      "text/plain": [
       "E_POV         623.863874\n",
       "M_POV         250.638743\n",
       "E_UNEMP       150.570681\n",
       "M_UNEMP        80.523560\n",
       "E_PCI       28744.105263\n",
       "M_PCI        3756.342105\n",
       "E_NOHSDP      291.664921\n",
       "M_NOHSDP      109.240838\n",
       "dtype: float64"
      ]
     },
     "execution_count": 17,
     "metadata": {},
     "output_type": "execute_result"
    }
   ],
   "source": [
    "soc_econ2016_df.loc[ : , ('E_POV', 'M_POV', 'E_UNEMP', 'M_UNEMP', 'E_PCI', 'M_PCI', 'E_NOHSDP', 'M_NOHSDP')].mean()"
   ]
  },
  {
   "cell_type": "code",
   "execution_count": 18,
   "metadata": {},
   "outputs": [
    {
     "data": {
      "text/plain": [
       "ST              int64\n",
       "STATE          object\n",
       "ST_ABBR        object\n",
       "STCNTY          int64\n",
       "COUNTY         object\n",
       "               ...   \n",
       "E_UNINSUR       int64\n",
       "M_UNINSUR       int64\n",
       "EP_UNINSUR    float64\n",
       "MP_UNINSUR    float64\n",
       "E_DAYPOP        int64\n",
       "Length: 124, dtype: object"
      ]
     },
     "execution_count": 18,
     "metadata": {},
     "output_type": "execute_result"
    }
   ],
   "source": [
    "#using panda to read csv plus calling dtypes attribute to get the data type for each column. Note these codes for years 2014, 2016, and 2018 will be actively in use through out the rest of the project, without having towrite the code again. The original data 1115 rows × 127 columns\n",
    "\n",
    "ky2018_df = pd.read_csv('Kentucky2018.csv' )\n",
    "ky2018_df.head()\n",
    "ky2018_df.dtypes"
   ]
  },
  {
   "cell_type": "code",
   "execution_count": 19,
   "metadata": {},
   "outputs": [],
   "source": [
    "#unique id from when it was first created. Note the id is different for 2016 and for 2018 vs 2014 data\n",
    "\n",
    "#ky2018_df['COUNTY'].unique()"
   ]
  },
  {
   "cell_type": "code",
   "execution_count": 20,
   "metadata": {},
   "outputs": [
    {
     "data": {
      "text/plain": [
       "72"
      ]
     },
     "execution_count": 20,
     "metadata": {},
     "output_type": "execute_result"
    }
   ],
   "source": [
    "#DataFrame, selecting Jefferson County from KY data, replaced uncalculable -9.99e+02 with Nan (0 TOTPOP or unavailable value). These processes ware the same for 2014, 2016, and 2018 and a count for possible later use\n",
    "\n",
    "jeff2018_df = ky2018_df[ky2018_df['COUNTY'] == 'Jefferson']\n",
    "jeff2018_df = jeff2018_df.replace( -9.99e+02, np.NaN)\n",
    "jeff2018_df.isna().sum().sum()\n",
    "#jeff2018_df.head"
   ]
  },
  {
   "cell_type": "code",
   "execution_count": 21,
   "metadata": {},
   "outputs": [
    {
     "data": {
      "text/html": [
       "<div>\n",
       "<style scoped>\n",
       "    .dataframe tbody tr th:only-of-type {\n",
       "        vertical-align: middle;\n",
       "    }\n",
       "\n",
       "    .dataframe tbody tr th {\n",
       "        vertical-align: top;\n",
       "    }\n",
       "\n",
       "    .dataframe thead th {\n",
       "        text-align: right;\n",
       "    }\n",
       "</style>\n",
       "<table border=\"1\" class=\"dataframe\">\n",
       "  <thead>\n",
       "    <tr style=\"text-align: right;\">\n",
       "      <th></th>\n",
       "      <th>FIPS</th>\n",
       "      <th>COUNTY</th>\n",
       "      <th>LOCATION</th>\n",
       "      <th>AREA_SQMI</th>\n",
       "      <th>E_TOTPOP</th>\n",
       "      <th>M_TOTPOP</th>\n",
       "      <th>E_POV</th>\n",
       "      <th>M_POV</th>\n",
       "      <th>EP_POV</th>\n",
       "      <th>MP_POV</th>\n",
       "      <th>...</th>\n",
       "      <th>M_NOHSDP</th>\n",
       "      <th>EP_NOHSDP</th>\n",
       "      <th>MP_NOHSDP</th>\n",
       "      <th>EPL_NOHSDP</th>\n",
       "      <th>F_NOHSDP</th>\n",
       "      <th>F_THEME1</th>\n",
       "      <th>SPL_THEME1</th>\n",
       "      <th>RPL_THEME1</th>\n",
       "      <th>SPL_THEMES</th>\n",
       "      <th>RPL_THEMES</th>\n",
       "    </tr>\n",
       "  </thead>\n",
       "  <tbody>\n",
       "    <tr>\n",
       "      <th>0</th>\n",
       "      <td>21111980100</td>\n",
       "      <td>Jefferson</td>\n",
       "      <td>Census Tract 9801, Jefferson County, Kentucky</td>\n",
       "      <td>6.694971</td>\n",
       "      <td>0.0</td>\n",
       "      <td>11.0</td>\n",
       "      <td>0.0</td>\n",
       "      <td>11.0</td>\n",
       "      <td>NaN</td>\n",
       "      <td>NaN</td>\n",
       "      <td>...</td>\n",
       "      <td>11.0</td>\n",
       "      <td>NaN</td>\n",
       "      <td>NaN</td>\n",
       "      <td>NaN</td>\n",
       "      <td>NaN</td>\n",
       "      <td>NaN</td>\n",
       "      <td>NaN</td>\n",
       "      <td>NaN</td>\n",
       "      <td>NaN</td>\n",
       "      <td>NaN</td>\n",
       "    </tr>\n",
       "    <tr>\n",
       "      <th>1</th>\n",
       "      <td>21111000300</td>\n",
       "      <td>Jefferson</td>\n",
       "      <td>Census Tract 3, Jefferson County, Kentucky</td>\n",
       "      <td>0.649123</td>\n",
       "      <td>2371.0</td>\n",
       "      <td>451.0</td>\n",
       "      <td>847.0</td>\n",
       "      <td>278.0</td>\n",
       "      <td>35.9</td>\n",
       "      <td>11.6</td>\n",
       "      <td>...</td>\n",
       "      <td>158.0</td>\n",
       "      <td>30.7</td>\n",
       "      <td>8.4</td>\n",
       "      <td>0.9250</td>\n",
       "      <td>1.0</td>\n",
       "      <td>3.0</td>\n",
       "      <td>3.7569</td>\n",
       "      <td>0.9801</td>\n",
       "      <td>10.3190</td>\n",
       "      <td>0.9411</td>\n",
       "    </tr>\n",
       "    <tr>\n",
       "      <th>2</th>\n",
       "      <td>21111000400</td>\n",
       "      <td>Jefferson</td>\n",
       "      <td>Census Tract 4, Jefferson County, Kentucky</td>\n",
       "      <td>1.108256</td>\n",
       "      <td>5160.0</td>\n",
       "      <td>557.0</td>\n",
       "      <td>1505.0</td>\n",
       "      <td>431.0</td>\n",
       "      <td>29.3</td>\n",
       "      <td>7.1</td>\n",
       "      <td>...</td>\n",
       "      <td>126.0</td>\n",
       "      <td>15.7</td>\n",
       "      <td>3.6</td>\n",
       "      <td>0.5194</td>\n",
       "      <td>0.0</td>\n",
       "      <td>1.0</td>\n",
       "      <td>3.1172</td>\n",
       "      <td>0.8451</td>\n",
       "      <td>9.9929</td>\n",
       "      <td>0.9148</td>\n",
       "    </tr>\n",
       "    <tr>\n",
       "      <th>3</th>\n",
       "      <td>21111000600</td>\n",
       "      <td>Jefferson</td>\n",
       "      <td>Census Tract 6, Jefferson County, Kentucky</td>\n",
       "      <td>0.457008</td>\n",
       "      <td>1771.0</td>\n",
       "      <td>219.0</td>\n",
       "      <td>680.0</td>\n",
       "      <td>234.0</td>\n",
       "      <td>38.5</td>\n",
       "      <td>11.2</td>\n",
       "      <td>...</td>\n",
       "      <td>83.0</td>\n",
       "      <td>23.5</td>\n",
       "      <td>7.9</td>\n",
       "      <td>0.7742</td>\n",
       "      <td>0.0</td>\n",
       "      <td>3.0</td>\n",
       "      <td>3.6413</td>\n",
       "      <td>0.9611</td>\n",
       "      <td>11.4808</td>\n",
       "      <td>0.9873</td>\n",
       "    </tr>\n",
       "    <tr>\n",
       "      <th>4</th>\n",
       "      <td>21111000700</td>\n",
       "      <td>Jefferson</td>\n",
       "      <td>Census Tract 7, Jefferson County, Kentucky</td>\n",
       "      <td>0.351949</td>\n",
       "      <td>2685.0</td>\n",
       "      <td>355.0</td>\n",
       "      <td>992.0</td>\n",
       "      <td>310.0</td>\n",
       "      <td>36.9</td>\n",
       "      <td>9.3</td>\n",
       "      <td>...</td>\n",
       "      <td>101.0</td>\n",
       "      <td>15.3</td>\n",
       "      <td>6.0</td>\n",
       "      <td>0.4968</td>\n",
       "      <td>0.0</td>\n",
       "      <td>3.0</td>\n",
       "      <td>3.2854</td>\n",
       "      <td>0.8822</td>\n",
       "      <td>9.3210</td>\n",
       "      <td>0.8386</td>\n",
       "    </tr>\n",
       "  </tbody>\n",
       "</table>\n",
       "<p>5 rows × 35 columns</p>\n",
       "</div>"
      ],
      "text/plain": [
       "          FIPS     COUNTY                                       LOCATION  \\\n",
       "0  21111980100  Jefferson  Census Tract 9801, Jefferson County, Kentucky   \n",
       "1  21111000300  Jefferson     Census Tract 3, Jefferson County, Kentucky   \n",
       "2  21111000400  Jefferson     Census Tract 4, Jefferson County, Kentucky   \n",
       "3  21111000600  Jefferson     Census Tract 6, Jefferson County, Kentucky   \n",
       "4  21111000700  Jefferson     Census Tract 7, Jefferson County, Kentucky   \n",
       "\n",
       "   AREA_SQMI  E_TOTPOP  M_TOTPOP   E_POV  M_POV  EP_POV  MP_POV  ...  \\\n",
       "0   6.694971       0.0      11.0     0.0   11.0     NaN     NaN  ...   \n",
       "1   0.649123    2371.0     451.0   847.0  278.0    35.9    11.6  ...   \n",
       "2   1.108256    5160.0     557.0  1505.0  431.0    29.3     7.1  ...   \n",
       "3   0.457008    1771.0     219.0   680.0  234.0    38.5    11.2  ...   \n",
       "4   0.351949    2685.0     355.0   992.0  310.0    36.9     9.3  ...   \n",
       "\n",
       "   M_NOHSDP  EP_NOHSDP  MP_NOHSDP  EPL_NOHSDP  F_NOHSDP  F_THEME1  SPL_THEME1  \\\n",
       "0      11.0        NaN        NaN         NaN       NaN       NaN         NaN   \n",
       "1     158.0       30.7        8.4      0.9250       1.0       3.0      3.7569   \n",
       "2     126.0       15.7        3.6      0.5194       0.0       1.0      3.1172   \n",
       "3      83.0       23.5        7.9      0.7742       0.0       3.0      3.6413   \n",
       "4     101.0       15.3        6.0      0.4968       0.0       3.0      3.2854   \n",
       "\n",
       "   RPL_THEME1  SPL_THEMES  RPL_THEMES  \n",
       "0         NaN         NaN         NaN  \n",
       "1      0.9801     10.3190      0.9411  \n",
       "2      0.8451      9.9929      0.9148  \n",
       "3      0.9611     11.4808      0.9873  \n",
       "4      0.8822      9.3210      0.8386  \n",
       "\n",
       "[5 rows x 35 columns]"
      ]
     },
     "execution_count": 21,
     "metadata": {},
     "output_type": "execute_result"
    }
   ],
   "source": [
    "#from jeff(year) new soc_econ(matching year) data frame to segregate the four factors estimates within the Socioeconomic theme and its RPL_THEME(#) (theme(#) percentile ranking), and the corresponding RPL_THEMES (overall ranking). New index was created. The same processes are used for all 4 theams and for years 2014, 2016, and 2018\n",
    "\n",
    "soc_econ2018_df = jeff2018_df.loc[ : , ('FIPS', 'COUNTY', 'LOCATION', 'AREA_SQMI', 'E_TOTPOP', 'M_TOTPOP', 'E_POV', 'M_POV', 'EP_POV', 'MP_POV', 'EPL_POV', 'F_POV', 'E_UNEMP', 'M_UNEMP', 'EP_UNEMP', 'MP_UNEMP', 'EPL_UNEMP', 'F_UNEMP', 'E_PCI', 'M_PCI', 'EP_PCI', 'MP_PCI', 'EPL_PCI', 'F_PCI', 'E_NOHSDP', 'M_NOHSDP', 'EP_NOHSDP', 'MP_NOHSDP', 'EPL_NOHSDP', 'F_NOHSDP', 'F_THEME1', 'SPL_THEME1', 'RPL_THEME1', 'SPL_THEMES', 'RPL_THEMES')]\n",
    "soc_econ2016_df.index = range(len(soc_econ2016_df.index))\n",
    "soc_econ2016_df.head()"
   ]
  },
  {
   "cell_type": "code",
   "execution_count": 22,
   "metadata": {},
   "outputs": [
    {
     "data": {
      "text/plain": [
       "AREA_SQMI       380.68523\n",
       "E_TOTPOP     767154.00000\n",
       "M_TOTPOP      69912.00000\n",
       "dtype: float64"
      ]
     },
     "execution_count": 22,
     "metadata": {},
     "output_type": "execute_result"
    }
   ],
   "source": [
    "soc_econ2018_df.loc[ : , ('AREA_SQMI', 'E_TOTPOP', 'M_TOTPOP')].sum()"
   ]
  },
  {
   "cell_type": "code",
   "execution_count": 23,
   "metadata": {},
   "outputs": [
    {
     "data": {
      "text/plain": [
       "E_POV         580.664921\n",
       "M_POV         240.272251\n",
       "E_UNEMP       123.874346\n",
       "M_UNEMP        75.821990\n",
       "E_PCI       30874.126316\n",
       "M_PCI        3873.842105\n",
       "E_NOHSDP      276.654450\n",
       "M_NOHSDP      110.785340\n",
       "dtype: float64"
      ]
     },
     "execution_count": 23,
     "metadata": {},
     "output_type": "execute_result"
    }
   ],
   "source": [
    "soc_econ2018_df.loc[ : , ('E_POV', 'M_POV', 'E_UNEMP', 'M_UNEMP', 'E_PCI', 'M_PCI', 'E_NOHSDP', 'M_NOHSDP')].mean()"
   ]
  },
  {
   "cell_type": "markdown",
   "metadata": {},
   "source": [
    "## IV. Data Visualization"
   ]
  },
  {
   "cell_type": "code",
   "execution_count": 24,
   "metadata": {},
   "outputs": [],
   "source": [
    "#notice inline was used here to work with JupyterLab, if using Jupyter Notebook try %matplotlib notebook\n",
    "\n",
    "%matplotlib inline"
   ]
  },
  {
   "cell_type": "code",
   "execution_count": 25,
   "metadata": {},
   "outputs": [
    {
     "data": {
      "text/plain": [
       "'module://ipykernel.pylab.backend_inline'"
      ]
     },
     "execution_count": 25,
     "metadata": {},
     "output_type": "execute_result"
    }
   ],
   "source": [
    "#the backend is called\n",
    "\n",
    "import matplotlib as mpl\n",
    "mpl.get_backend()"
   ]
  },
  {
   "cell_type": "code",
   "execution_count": 26,
   "metadata": {},
   "outputs": [],
   "source": [
    "import matplotlib.pyplot as plt"
   ]
  },
  {
   "cell_type": "code",
   "execution_count": 27,
   "metadata": {},
   "outputs": [],
   "source": [
    "#might need to reimport numpy, if necessary\n",
    "\n",
    "#import numpy as np"
   ]
  },
  {
   "cell_type": "code",
   "execution_count": 28,
   "metadata": {},
   "outputs": [],
   "source": [
    "#extra code commonly used with plt.plot\n",
    "\n",
    "#year_data = np.array([2014, 2016, 2018])\n",
    "#pov_data = np.array([soc_econ2014_df['E_POV'].mean(), soc_econ2016_df['E_POV'].mean(),soc_econ2018_df['E_POV'].mean()])\n",
    "#plt.plot(year_data, pov_data, color = 'blue', linewidth = 4, label = 'below poverty')\n",
    "#plt.legend()\n",
    "#plt.show()"
   ]
  },
  {
   "cell_type": "code",
   "execution_count": 29,
   "metadata": {},
   "outputs": [
    {
     "data": {
      "image/png": "[encoded data removed]",
      "text/plain": [
       "<Figure size 1152x1152 with 4 Axes>"
      ]
     },
     "metadata": {
      "needs_background": "light"
     },
     "output_type": "display_data"
    }
   ],
   "source": [
    "#code to graph the four factoctor estimates for theme 1 (Socialeconomic) to visualize the estimate numbers for 2014, 2016, and 2018 \n",
    "#poverty, unemployment, and no high school diplome show a  consecutive drop and income shows a consecutive increase around the three years graphed\n",
    "\n",
    "year_data = np.array([2014, 2016, 2018])\n",
    "\n",
    "pov_data = np.array([soc_econ2014_df['E_POV'].mean(),soc_econ2016_df['E_POV'].mean(),soc_econ2018_df['E_POV'].mean()])\n",
    "unemp_data = np.array([soc_econ2014_df['E_UNEMP'].mean(),soc_econ2016_df['E_UNEMP'].mean(),soc_econ2018_df['E_UNEMP'].mean()])\n",
    "pcincome_data = np.array([soc_econ2014_df['E_PCI'].mean(),soc_econ2016_df['E_PCI'].mean(),soc_econ2018_df['E_PCI'].mean()])\n",
    "nohsdp_data = np.array([soc_econ2014_df['E_NOHSDP'].mean(),soc_econ2016_df['E_NOHSDP'].mean(),soc_econ2018_df['E_NOHSDP'].mean()])\n",
    "\n",
    "fig,soc_econ = plt.subplots(2,2, figsize = (16,16))\n",
    "soc_econ[0][0].plot(year_data, pov_data, 'bo', lw = 2., ls = '-.' )\n",
    "#soc_econ[0][0].set_xticks([2,4,6])\n",
    "#soc_econ[0][0].set_xticklabels(['2014', '2016','2018'])\n",
    "soc_econ[0][0].set_xlabel('Years')\n",
    "soc_econ[0][0].grid(True)\n",
    "soc_econ[0][0].set_title('Persons below poverty')\n",
    "#plt.plot(year_data, pov_data, color = 'blue', linewidth = 4, label = 'Persons below poverty')\n",
    "soc_econ[0][1].plot(year_data, unemp_data, 'ro', lw = 2., ls = '-.')\n",
    "soc_econ[0][1].grid(True)\n",
    "soc_econ[0][1].set_title('Age 16+ unemployed')\n",
    "soc_econ[0][1].set_xlabel('Years')\n",
    "#plt.plot(year_data, unemp_data, color = 'red', linewidth = 6, label = 'age 16+ unemployed')\n",
    "soc_econ[1][0].plot(year_data, pcincome_data, 'go', lw = 2., ls = '-.')\n",
    "soc_econ[1][0].grid(True)\n",
    "soc_econ[1][0].set_title('Per capita income')\n",
    "soc_econ[1][0].set_xlabel('Years')\n",
    "#plt.plot(year_data, pcincome_data, color = 'green', linewidth = 8, label = 'per capita income')\n",
    "soc_econ[1][1].plot(year_data, nohsdp_data, 'yo', lw = 2., ls = '-.')\n",
    "soc_econ[1][1].grid(True)\n",
    "soc_econ[1][1].set_title('Age 25+ with no high school diploma')\n",
    "soc_econ[1][1].set_xlabel('Years')\n",
    "#plt.plot(year_data, nohsdp_data, color = 'olive', linewidth = 8, label = 'age 25+ no high school diploma', linestyle = 'dashed')\n",
    "#plt.title('Socialeconomic Vulnerability in Jefferson County Tracts\\n 2014, 2016, and 2018')\n",
    "#plt.legend()\n",
    "plt.show()"
   ]
  },
  {
   "cell_type": "code",
   "execution_count": 30,
   "metadata": {},
   "outputs": [
    {
     "data": {
      "text/html": [
       "<div>\n",
       "<style scoped>\n",
       "    .dataframe tbody tr th:only-of-type {\n",
       "        vertical-align: middle;\n",
       "    }\n",
       "\n",
       "    .dataframe tbody tr th {\n",
       "        vertical-align: top;\n",
       "    }\n",
       "\n",
       "    .dataframe thead th {\n",
       "        text-align: right;\n",
       "    }\n",
       "</style>\n",
       "<table border=\"1\" class=\"dataframe\">\n",
       "  <thead>\n",
       "    <tr style=\"text-align: right;\">\n",
       "      <th></th>\n",
       "      <th>FIPS</th>\n",
       "      <th>COUNTY</th>\n",
       "      <th>LOCATION</th>\n",
       "      <th>AREA_SQMI</th>\n",
       "      <th>E_TOTPOP</th>\n",
       "      <th>M_TOTPOP</th>\n",
       "      <th>E_AGE65</th>\n",
       "      <th>M_AGE65</th>\n",
       "      <th>EP_AGE65</th>\n",
       "      <th>MP_AGE65</th>\n",
       "      <th>...</th>\n",
       "      <th>M_SNGPNT</th>\n",
       "      <th>EP_SNGPNT</th>\n",
       "      <th>MP_SNGPNT</th>\n",
       "      <th>EPL_SNGPNT</th>\n",
       "      <th>F_SNGPNT</th>\n",
       "      <th>F_THEME2</th>\n",
       "      <th>SPL_THEME2</th>\n",
       "      <th>RPL_THEME2</th>\n",
       "      <th>SPL_THEMES</th>\n",
       "      <th>RPL_THEMES</th>\n",
       "    </tr>\n",
       "  </thead>\n",
       "  <tbody>\n",
       "    <tr>\n",
       "      <th>0</th>\n",
       "      <td>21111000200</td>\n",
       "      <td>Jefferson</td>\n",
       "      <td>Census Tract 2, Jefferson County, Kentucky</td>\n",
       "      <td>1.135250</td>\n",
       "      <td>2792.0</td>\n",
       "      <td>386.0</td>\n",
       "      <td>243.0</td>\n",
       "      <td>64.0</td>\n",
       "      <td>8.7</td>\n",
       "      <td>2.1</td>\n",
       "      <td>...</td>\n",
       "      <td>102.5</td>\n",
       "      <td>26.7</td>\n",
       "      <td>9.8</td>\n",
       "      <td>0.9856</td>\n",
       "      <td>1.0</td>\n",
       "      <td>2.0</td>\n",
       "      <td>2.8779</td>\n",
       "      <td>0.9524</td>\n",
       "      <td>10.5825</td>\n",
       "      <td>0.9531</td>\n",
       "    </tr>\n",
       "    <tr>\n",
       "      <th>1</th>\n",
       "      <td>21111000400</td>\n",
       "      <td>Jefferson</td>\n",
       "      <td>Census Tract 4, Jefferson County, Kentucky</td>\n",
       "      <td>1.108256</td>\n",
       "      <td>5113.0</td>\n",
       "      <td>435.0</td>\n",
       "      <td>760.0</td>\n",
       "      <td>98.0</td>\n",
       "      <td>14.9</td>\n",
       "      <td>2.0</td>\n",
       "      <td>...</td>\n",
       "      <td>100.0</td>\n",
       "      <td>15.2</td>\n",
       "      <td>5.1</td>\n",
       "      <td>0.8860</td>\n",
       "      <td>0.0</td>\n",
       "      <td>0.0</td>\n",
       "      <td>2.8420</td>\n",
       "      <td>0.9336</td>\n",
       "      <td>10.0680</td>\n",
       "      <td>0.9134</td>\n",
       "    </tr>\n",
       "    <tr>\n",
       "      <th>2</th>\n",
       "      <td>21111000600</td>\n",
       "      <td>Jefferson</td>\n",
       "      <td>Census Tract 6, Jefferson County, Kentucky</td>\n",
       "      <td>0.457008</td>\n",
       "      <td>1640.0</td>\n",
       "      <td>251.0</td>\n",
       "      <td>154.0</td>\n",
       "      <td>46.0</td>\n",
       "      <td>9.4</td>\n",
       "      <td>3.0</td>\n",
       "      <td>...</td>\n",
       "      <td>79.2</td>\n",
       "      <td>35.3</td>\n",
       "      <td>11.9</td>\n",
       "      <td>0.9982</td>\n",
       "      <td>1.0</td>\n",
       "      <td>2.0</td>\n",
       "      <td>2.9084</td>\n",
       "      <td>0.9587</td>\n",
       "      <td>11.5115</td>\n",
       "      <td>0.9874</td>\n",
       "    </tr>\n",
       "    <tr>\n",
       "      <th>3</th>\n",
       "      <td>21111000700</td>\n",
       "      <td>Jefferson</td>\n",
       "      <td>Census Tract 7, Jefferson County, Kentucky</td>\n",
       "      <td>0.351949</td>\n",
       "      <td>2882.0</td>\n",
       "      <td>385.0</td>\n",
       "      <td>236.0</td>\n",
       "      <td>35.0</td>\n",
       "      <td>8.2</td>\n",
       "      <td>1.8</td>\n",
       "      <td>...</td>\n",
       "      <td>103.4</td>\n",
       "      <td>24.9</td>\n",
       "      <td>8.7</td>\n",
       "      <td>0.9794</td>\n",
       "      <td>1.0</td>\n",
       "      <td>1.0</td>\n",
       "      <td>2.7002</td>\n",
       "      <td>0.8815</td>\n",
       "      <td>10.0694</td>\n",
       "      <td>0.9143</td>\n",
       "    </tr>\n",
       "    <tr>\n",
       "      <th>4</th>\n",
       "      <td>21111000900</td>\n",
       "      <td>Jefferson</td>\n",
       "      <td>Census Tract 9, Jefferson County, Kentucky</td>\n",
       "      <td>0.247888</td>\n",
       "      <td>2057.0</td>\n",
       "      <td>262.0</td>\n",
       "      <td>308.0</td>\n",
       "      <td>93.0</td>\n",
       "      <td>15.0</td>\n",
       "      <td>5.1</td>\n",
       "      <td>...</td>\n",
       "      <td>46.7</td>\n",
       "      <td>14.8</td>\n",
       "      <td>5.3</td>\n",
       "      <td>0.8770</td>\n",
       "      <td>0.0</td>\n",
       "      <td>0.0</td>\n",
       "      <td>2.6562</td>\n",
       "      <td>0.8636</td>\n",
       "      <td>8.9050</td>\n",
       "      <td>0.7764</td>\n",
       "    </tr>\n",
       "  </tbody>\n",
       "</table>\n",
       "<p>5 rows × 35 columns</p>\n",
       "</div>"
      ],
      "text/plain": [
       "          FIPS      COUNTY                                    LOCATION  \\\n",
       "0  21111000200   Jefferson  Census Tract 2, Jefferson County, Kentucky   \n",
       "1  21111000400   Jefferson  Census Tract 4, Jefferson County, Kentucky   \n",
       "2  21111000600   Jefferson  Census Tract 6, Jefferson County, Kentucky   \n",
       "3  21111000700   Jefferson  Census Tract 7, Jefferson County, Kentucky   \n",
       "4  21111000900   Jefferson  Census Tract 9, Jefferson County, Kentucky   \n",
       "\n",
       "   AREA_SQMI  E_TOTPOP  M_TOTPOP  E_AGE65  M_AGE65  EP_AGE65  MP_AGE65  ...  \\\n",
       "0   1.135250    2792.0     386.0    243.0     64.0       8.7       2.1  ...   \n",
       "1   1.108256    5113.0     435.0    760.0     98.0      14.9       2.0  ...   \n",
       "2   0.457008    1640.0     251.0    154.0     46.0       9.4       3.0  ...   \n",
       "3   0.351949    2882.0     385.0    236.0     35.0       8.2       1.8  ...   \n",
       "4   0.247888    2057.0     262.0    308.0     93.0      15.0       5.1  ...   \n",
       "\n",
       "   M_SNGPNT  EP_SNGPNT  MP_SNGPNT  EPL_SNGPNT  F_SNGPNT  F_THEME2  SPL_THEME2  \\\n",
       "0     102.5       26.7        9.8      0.9856       1.0       2.0      2.8779   \n",
       "1     100.0       15.2        5.1      0.8860       0.0       0.0      2.8420   \n",
       "2      79.2       35.3       11.9      0.9982       1.0       2.0      2.9084   \n",
       "3     103.4       24.9        8.7      0.9794       1.0       1.0      2.7002   \n",
       "4      46.7       14.8        5.3      0.8770       0.0       0.0      2.6562   \n",
       "\n",
       "   RPL_THEME2  SPL_THEMES  RPL_THEMES  \n",
       "0      0.9524     10.5825      0.9531  \n",
       "1      0.9336     10.0680      0.9134  \n",
       "2      0.9587     11.5115      0.9874  \n",
       "3      0.8815     10.0694      0.9143  \n",
       "4      0.8636      8.9050      0.7764  \n",
       "\n",
       "[5 rows x 35 columns]"
      ]
     },
     "execution_count": 30,
     "metadata": {},
     "output_type": "execute_result"
    }
   ],
   "source": [
    "hcompo_disabl2014_df = jeff2014_df.loc[ : , ('FIPS', 'COUNTY', 'LOCATION', 'AREA_SQMI', 'E_TOTPOP', 'M_TOTPOP', 'E_AGE65', 'M_AGE65', 'EP_AGE65', 'MP_AGE65', 'EPL_AGE65', 'F_AGE65', 'E_AGE17', 'M_AGE17', 'EP_AGE17', 'MP_AGE17', 'EPL_AGE17', 'F_AGE17', 'E_DISABL', 'M_DISABL', 'EP_DISABL', 'MP_DISABL', 'EPL_DISABL', 'F_DISABL', 'E_SNGPNT', 'M_SNGPNT', 'EP_SNGPNT', 'MP_SNGPNT', 'EPL_SNGPNT', 'F_SNGPNT', 'F_THEME2', 'SPL_THEME2', 'RPL_THEME2', 'SPL_THEMES', 'RPL_THEMES')]\n",
    "hcompo_disabl2014_df.index = range(len(hcompo_disabl2014_df.index))\n",
    "hcompo_disabl2014_df.head()"
   ]
  },
  {
   "cell_type": "code",
   "execution_count": 31,
   "metadata": {},
   "outputs": [
    {
     "data": {
      "text/plain": [
       "AREA_SQMI       380.430993\n",
       "E_TOTPOP     751485.000000\n",
       "M_TOTPOP      67018.000000\n",
       "dtype: float64"
      ]
     },
     "execution_count": 31,
     "metadata": {},
     "output_type": "execute_result"
    }
   ],
   "source": [
    "hcompo_disabl2014_df.loc[ : , ('AREA_SQMI', 'E_TOTPOP', 'M_TOTPOP')].sum()"
   ]
  },
  {
   "cell_type": "code",
   "execution_count": 32,
   "metadata": {},
   "outputs": [
    {
     "data": {
      "text/plain": [
       "E_AGE65     544.921466\n",
       "M_AGE65      88.926702\n",
       "E_AGE17     901.225131\n",
       "M_AGE17     190.303665\n",
       "E_DISABL    571.141361\n",
       "M_DISABL    152.643979\n",
       "E_SNGPNT    174.361257\n",
       "M_SNGPNT     79.904188\n",
       "dtype: float64"
      ]
     },
     "execution_count": 32,
     "metadata": {},
     "output_type": "execute_result"
    }
   ],
   "source": [
    "hcompo_disabl2014_df.loc[ : , ('E_AGE65', 'M_AGE65', 'E_AGE17', 'M_AGE17', 'E_DISABL', 'M_DISABL', 'E_SNGPNT', 'M_SNGPNT')].mean()"
   ]
  },
  {
   "cell_type": "code",
   "execution_count": 33,
   "metadata": {},
   "outputs": [
    {
     "data": {
      "text/html": [
       "<div>\n",
       "<style scoped>\n",
       "    .dataframe tbody tr th:only-of-type {\n",
       "        vertical-align: middle;\n",
       "    }\n",
       "\n",
       "    .dataframe tbody tr th {\n",
       "        vertical-align: top;\n",
       "    }\n",
       "\n",
       "    .dataframe thead th {\n",
       "        text-align: right;\n",
       "    }\n",
       "</style>\n",
       "<table border=\"1\" class=\"dataframe\">\n",
       "  <thead>\n",
       "    <tr style=\"text-align: right;\">\n",
       "      <th></th>\n",
       "      <th>FIPS</th>\n",
       "      <th>COUNTY</th>\n",
       "      <th>LOCATION</th>\n",
       "      <th>AREA_SQMI</th>\n",
       "      <th>E_TOTPOP</th>\n",
       "      <th>M_TOTPOP</th>\n",
       "      <th>E_AGE65</th>\n",
       "      <th>M_AGE65</th>\n",
       "      <th>EP_AGE65</th>\n",
       "      <th>MP_AGE65</th>\n",
       "      <th>...</th>\n",
       "      <th>M_SNGPNT</th>\n",
       "      <th>EP_SNGPNT</th>\n",
       "      <th>MP_SNGPNT</th>\n",
       "      <th>EPL_SNGPNT</th>\n",
       "      <th>F_SNGPNT</th>\n",
       "      <th>F_THEME2</th>\n",
       "      <th>SPL_THEME2</th>\n",
       "      <th>RPL_THEME2</th>\n",
       "      <th>SPL_THEMES</th>\n",
       "      <th>RPL_THEMES</th>\n",
       "    </tr>\n",
       "  </thead>\n",
       "  <tbody>\n",
       "    <tr>\n",
       "      <th>0</th>\n",
       "      <td>21111980100</td>\n",
       "      <td>Jefferson</td>\n",
       "      <td>Census Tract 9801, Jefferson County, Kentucky</td>\n",
       "      <td>6.694971</td>\n",
       "      <td>0.0</td>\n",
       "      <td>11.0</td>\n",
       "      <td>0.0</td>\n",
       "      <td>11.0</td>\n",
       "      <td>NaN</td>\n",
       "      <td>NaN</td>\n",
       "      <td>...</td>\n",
       "      <td>15.6</td>\n",
       "      <td>0.0</td>\n",
       "      <td>NaN</td>\n",
       "      <td>NaN</td>\n",
       "      <td>NaN</td>\n",
       "      <td>NaN</td>\n",
       "      <td>NaN</td>\n",
       "      <td>NaN</td>\n",
       "      <td>NaN</td>\n",
       "      <td>NaN</td>\n",
       "    </tr>\n",
       "    <tr>\n",
       "      <th>1</th>\n",
       "      <td>21111000300</td>\n",
       "      <td>Jefferson</td>\n",
       "      <td>Census Tract 3, Jefferson County, Kentucky</td>\n",
       "      <td>0.649123</td>\n",
       "      <td>2371.0</td>\n",
       "      <td>451.0</td>\n",
       "      <td>300.0</td>\n",
       "      <td>95.0</td>\n",
       "      <td>12.7</td>\n",
       "      <td>3.4</td>\n",
       "      <td>...</td>\n",
       "      <td>59.8</td>\n",
       "      <td>11.1</td>\n",
       "      <td>6.3</td>\n",
       "      <td>0.7076</td>\n",
       "      <td>0.0</td>\n",
       "      <td>1.0</td>\n",
       "      <td>2.3952</td>\n",
       "      <td>0.7360</td>\n",
       "      <td>10.3190</td>\n",
       "      <td>0.9411</td>\n",
       "    </tr>\n",
       "    <tr>\n",
       "      <th>2</th>\n",
       "      <td>21111000400</td>\n",
       "      <td>Jefferson</td>\n",
       "      <td>Census Tract 4, Jefferson County, Kentucky</td>\n",
       "      <td>1.108256</td>\n",
       "      <td>5160.0</td>\n",
       "      <td>557.0</td>\n",
       "      <td>744.0</td>\n",
       "      <td>88.0</td>\n",
       "      <td>14.4</td>\n",
       "      <td>2.0</td>\n",
       "      <td>...</td>\n",
       "      <td>124.1</td>\n",
       "      <td>22.5</td>\n",
       "      <td>6.4</td>\n",
       "      <td>0.9783</td>\n",
       "      <td>1.0</td>\n",
       "      <td>1.0</td>\n",
       "      <td>3.1558</td>\n",
       "      <td>0.9901</td>\n",
       "      <td>9.9929</td>\n",
       "      <td>0.9148</td>\n",
       "    </tr>\n",
       "    <tr>\n",
       "      <th>3</th>\n",
       "      <td>21111000600</td>\n",
       "      <td>Jefferson</td>\n",
       "      <td>Census Tract 6, Jefferson County, Kentucky</td>\n",
       "      <td>0.457008</td>\n",
       "      <td>1771.0</td>\n",
       "      <td>219.0</td>\n",
       "      <td>176.0</td>\n",
       "      <td>38.0</td>\n",
       "      <td>9.9</td>\n",
       "      <td>2.3</td>\n",
       "      <td>...</td>\n",
       "      <td>61.0</td>\n",
       "      <td>28.3</td>\n",
       "      <td>8.5</td>\n",
       "      <td>0.9946</td>\n",
       "      <td>1.0</td>\n",
       "      <td>2.0</td>\n",
       "      <td>2.7259</td>\n",
       "      <td>0.8996</td>\n",
       "      <td>11.4808</td>\n",
       "      <td>0.9873</td>\n",
       "    </tr>\n",
       "    <tr>\n",
       "      <th>4</th>\n",
       "      <td>21111000700</td>\n",
       "      <td>Jefferson</td>\n",
       "      <td>Census Tract 7, Jefferson County, Kentucky</td>\n",
       "      <td>0.351949</td>\n",
       "      <td>2685.0</td>\n",
       "      <td>355.0</td>\n",
       "      <td>305.0</td>\n",
       "      <td>34.0</td>\n",
       "      <td>11.4</td>\n",
       "      <td>2.1</td>\n",
       "      <td>...</td>\n",
       "      <td>94.4</td>\n",
       "      <td>22.5</td>\n",
       "      <td>8.3</td>\n",
       "      <td>0.9774</td>\n",
       "      <td>1.0</td>\n",
       "      <td>1.0</td>\n",
       "      <td>2.6900</td>\n",
       "      <td>0.8825</td>\n",
       "      <td>9.3210</td>\n",
       "      <td>0.8386</td>\n",
       "    </tr>\n",
       "  </tbody>\n",
       "</table>\n",
       "<p>5 rows × 35 columns</p>\n",
       "</div>"
      ],
      "text/plain": [
       "          FIPS     COUNTY                                       LOCATION  \\\n",
       "0  21111980100  Jefferson  Census Tract 9801, Jefferson County, Kentucky   \n",
       "1  21111000300  Jefferson     Census Tract 3, Jefferson County, Kentucky   \n",
       "2  21111000400  Jefferson     Census Tract 4, Jefferson County, Kentucky   \n",
       "3  21111000600  Jefferson     Census Tract 6, Jefferson County, Kentucky   \n",
       "4  21111000700  Jefferson     Census Tract 7, Jefferson County, Kentucky   \n",
       "\n",
       "   AREA_SQMI  E_TOTPOP  M_TOTPOP  E_AGE65  M_AGE65  EP_AGE65  MP_AGE65  ...  \\\n",
       "0   6.694971       0.0      11.0      0.0     11.0       NaN       NaN  ...   \n",
       "1   0.649123    2371.0     451.0    300.0     95.0      12.7       3.4  ...   \n",
       "2   1.108256    5160.0     557.0    744.0     88.0      14.4       2.0  ...   \n",
       "3   0.457008    1771.0     219.0    176.0     38.0       9.9       2.3  ...   \n",
       "4   0.351949    2685.0     355.0    305.0     34.0      11.4       2.1  ...   \n",
       "\n",
       "   M_SNGPNT  EP_SNGPNT  MP_SNGPNT  EPL_SNGPNT  F_SNGPNT  F_THEME2  SPL_THEME2  \\\n",
       "0      15.6        0.0        NaN         NaN       NaN       NaN         NaN   \n",
       "1      59.8       11.1        6.3      0.7076       0.0       1.0      2.3952   \n",
       "2     124.1       22.5        6.4      0.9783       1.0       1.0      3.1558   \n",
       "3      61.0       28.3        8.5      0.9946       1.0       2.0      2.7259   \n",
       "4      94.4       22.5        8.3      0.9774       1.0       1.0      2.6900   \n",
       "\n",
       "   RPL_THEME2  SPL_THEMES  RPL_THEMES  \n",
       "0         NaN         NaN         NaN  \n",
       "1      0.7360     10.3190      0.9411  \n",
       "2      0.9901      9.9929      0.9148  \n",
       "3      0.8996     11.4808      0.9873  \n",
       "4      0.8825      9.3210      0.8386  \n",
       "\n",
       "[5 rows x 35 columns]"
      ]
     },
     "execution_count": 33,
     "metadata": {},
     "output_type": "execute_result"
    }
   ],
   "source": [
    "hcompo_disabl2016_df = jeff2016_df.loc[ : , ('FIPS', 'COUNTY', 'LOCATION', 'AREA_SQMI', 'E_TOTPOP', 'M_TOTPOP', 'E_AGE65', 'M_AGE65', 'EP_AGE65', 'MP_AGE65', 'EPL_AGE65', 'F_AGE65', 'E_AGE17', 'M_AGE17', 'EP_AGE17', 'MP_AGE17', 'EPL_AGE17', 'F_AGE17', 'E_DISABL', 'M_DISABL', 'EP_DISABL', 'MP_DISABL', 'EPL_DISABL', 'F_DISABL', 'E_SNGPNT', 'M_SNGPNT', 'EP_SNGPNT', 'MP_SNGPNT', 'EPL_SNGPNT', 'F_SNGPNT', 'F_THEME2', 'SPL_THEME2', 'RPL_THEME2', 'SPL_THEMES', 'RPL_THEMES')]\n",
    "hcompo_disabl2016_df.index = range(len(hcompo_disabl2016_df.index))\n",
    "hcompo_disabl2016_df.head()"
   ]
  },
  {
   "cell_type": "code",
   "execution_count": 34,
   "metadata": {},
   "outputs": [
    {
     "data": {
      "text/plain": [
       "AREA_SQMI       380.475579\n",
       "E_TOTPOP     759724.000000\n",
       "M_TOTPOP      66396.000000\n",
       "dtype: float64"
      ]
     },
     "execution_count": 34,
     "metadata": {},
     "output_type": "execute_result"
    }
   ],
   "source": [
    "hcompo_disabl2016_df.loc[ : , ('AREA_SQMI', 'E_TOTPOP', 'M_TOTPOP')].sum()"
   ]
  },
  {
   "cell_type": "code",
   "execution_count": 35,
   "metadata": {},
   "outputs": [
    {
     "data": {
      "text/plain": [
       "E_AGE65     577.120419\n",
       "M_AGE65      89.691099\n",
       "E_AGE17     902.246073\n",
       "M_AGE17     192.685864\n",
       "E_DISABL    569.769634\n",
       "M_DISABL    148.575916\n",
       "E_SNGPNT    168.617801\n",
       "M_SNGPNT     78.627225\n",
       "dtype: float64"
      ]
     },
     "execution_count": 35,
     "metadata": {},
     "output_type": "execute_result"
    }
   ],
   "source": [
    "hcompo_disabl2016_df.loc[ : , ('E_AGE65', 'M_AGE65', 'E_AGE17', 'M_AGE17', 'E_DISABL', 'M_DISABL', 'E_SNGPNT', 'M_SNGPNT')].mean()"
   ]
  },
  {
   "cell_type": "code",
   "execution_count": 36,
   "metadata": {},
   "outputs": [
    {
     "data": {
      "text/html": [
       "<div>\n",
       "<style scoped>\n",
       "    .dataframe tbody tr th:only-of-type {\n",
       "        vertical-align: middle;\n",
       "    }\n",
       "\n",
       "    .dataframe tbody tr th {\n",
       "        vertical-align: top;\n",
       "    }\n",
       "\n",
       "    .dataframe thead th {\n",
       "        text-align: right;\n",
       "    }\n",
       "</style>\n",
       "<table border=\"1\" class=\"dataframe\">\n",
       "  <thead>\n",
       "    <tr style=\"text-align: right;\">\n",
       "      <th></th>\n",
       "      <th>FIPS</th>\n",
       "      <th>COUNTY</th>\n",
       "      <th>LOCATION</th>\n",
       "      <th>AREA_SQMI</th>\n",
       "      <th>E_TOTPOP</th>\n",
       "      <th>M_TOTPOP</th>\n",
       "      <th>E_AGE65</th>\n",
       "      <th>M_AGE65</th>\n",
       "      <th>EP_AGE65</th>\n",
       "      <th>MP_AGE65</th>\n",
       "      <th>...</th>\n",
       "      <th>M_SNGPNT</th>\n",
       "      <th>EP_SNGPNT</th>\n",
       "      <th>MP_SNGPNT</th>\n",
       "      <th>EPL_SNGPNT</th>\n",
       "      <th>F_SNGPNT</th>\n",
       "      <th>F_THEME2</th>\n",
       "      <th>SPL_THEME2</th>\n",
       "      <th>RPL_THEME2</th>\n",
       "      <th>SPL_THEMES</th>\n",
       "      <th>RPL_THEMES</th>\n",
       "    </tr>\n",
       "  </thead>\n",
       "  <tbody>\n",
       "    <tr>\n",
       "      <th>0</th>\n",
       "      <td>21111980100</td>\n",
       "      <td>Jefferson</td>\n",
       "      <td>Census Tract 9801, Jefferson County, Kentucky</td>\n",
       "      <td>6.831377</td>\n",
       "      <td>0</td>\n",
       "      <td>11</td>\n",
       "      <td>0</td>\n",
       "      <td>11</td>\n",
       "      <td>NaN</td>\n",
       "      <td>NaN</td>\n",
       "      <td>...</td>\n",
       "      <td>15</td>\n",
       "      <td>0.0</td>\n",
       "      <td>NaN</td>\n",
       "      <td>NaN</td>\n",
       "      <td>NaN</td>\n",
       "      <td>NaN</td>\n",
       "      <td>NaN</td>\n",
       "      <td>NaN</td>\n",
       "      <td>NaN</td>\n",
       "      <td>NaN</td>\n",
       "    </tr>\n",
       "    <tr>\n",
       "      <th>1</th>\n",
       "      <td>21111008500</td>\n",
       "      <td>Jefferson</td>\n",
       "      <td>Census Tract 85, Jefferson County, Kentucky</td>\n",
       "      <td>0.288635</td>\n",
       "      <td>2063</td>\n",
       "      <td>141</td>\n",
       "      <td>285</td>\n",
       "      <td>59</td>\n",
       "      <td>13.8</td>\n",
       "      <td>2.8</td>\n",
       "      <td>...</td>\n",
       "      <td>15</td>\n",
       "      <td>0.0</td>\n",
       "      <td>1.4</td>\n",
       "      <td>0.0000</td>\n",
       "      <td>0.0</td>\n",
       "      <td>0.0</td>\n",
       "      <td>0.3520</td>\n",
       "      <td>0.0072</td>\n",
       "      <td>2.2720</td>\n",
       "      <td>0.0027</td>\n",
       "    </tr>\n",
       "    <tr>\n",
       "      <th>2</th>\n",
       "      <td>21111011604</td>\n",
       "      <td>Jefferson</td>\n",
       "      <td>Census Tract 116.04, Jefferson County, Kentucky</td>\n",
       "      <td>28.807749</td>\n",
       "      <td>2434</td>\n",
       "      <td>121</td>\n",
       "      <td>568</td>\n",
       "      <td>73</td>\n",
       "      <td>23.3</td>\n",
       "      <td>2.6</td>\n",
       "      <td>...</td>\n",
       "      <td>12</td>\n",
       "      <td>0.4</td>\n",
       "      <td>1.2</td>\n",
       "      <td>0.0117</td>\n",
       "      <td>0.0</td>\n",
       "      <td>1.0</td>\n",
       "      <td>1.4788</td>\n",
       "      <td>0.1844</td>\n",
       "      <td>2.4760</td>\n",
       "      <td>0.0045</td>\n",
       "    </tr>\n",
       "    <tr>\n",
       "      <th>3</th>\n",
       "      <td>21111013100</td>\n",
       "      <td>Jefferson</td>\n",
       "      <td>Census Tract 131, Jefferson County, Kentucky</td>\n",
       "      <td>0.389240</td>\n",
       "      <td>2114</td>\n",
       "      <td>92</td>\n",
       "      <td>368</td>\n",
       "      <td>28</td>\n",
       "      <td>17.4</td>\n",
       "      <td>1.2</td>\n",
       "      <td>...</td>\n",
       "      <td>20</td>\n",
       "      <td>5.2</td>\n",
       "      <td>2.3</td>\n",
       "      <td>0.2464</td>\n",
       "      <td>0.0</td>\n",
       "      <td>0.0</td>\n",
       "      <td>1.3963</td>\n",
       "      <td>0.1510</td>\n",
       "      <td>2.6407</td>\n",
       "      <td>0.0091</td>\n",
       "    </tr>\n",
       "    <tr>\n",
       "      <th>4</th>\n",
       "      <td>21111010317</td>\n",
       "      <td>Jefferson</td>\n",
       "      <td>Census Tract 103.17, Jefferson County, Kentucky</td>\n",
       "      <td>2.445160</td>\n",
       "      <td>4685</td>\n",
       "      <td>191</td>\n",
       "      <td>999</td>\n",
       "      <td>74</td>\n",
       "      <td>21.3</td>\n",
       "      <td>1.8</td>\n",
       "      <td>...</td>\n",
       "      <td>39</td>\n",
       "      <td>4.2</td>\n",
       "      <td>2.3</td>\n",
       "      <td>0.1652</td>\n",
       "      <td>0.0</td>\n",
       "      <td>0.0</td>\n",
       "      <td>1.8367</td>\n",
       "      <td>0.3816</td>\n",
       "      <td>2.9959</td>\n",
       "      <td>0.0136</td>\n",
       "    </tr>\n",
       "  </tbody>\n",
       "</table>\n",
       "<p>5 rows × 35 columns</p>\n",
       "</div>"
      ],
      "text/plain": [
       "          FIPS     COUNTY                                         LOCATION  \\\n",
       "0  21111980100  Jefferson    Census Tract 9801, Jefferson County, Kentucky   \n",
       "1  21111008500  Jefferson      Census Tract 85, Jefferson County, Kentucky   \n",
       "2  21111011604  Jefferson  Census Tract 116.04, Jefferson County, Kentucky   \n",
       "3  21111013100  Jefferson     Census Tract 131, Jefferson County, Kentucky   \n",
       "4  21111010317  Jefferson  Census Tract 103.17, Jefferson County, Kentucky   \n",
       "\n",
       "   AREA_SQMI  E_TOTPOP  M_TOTPOP  E_AGE65  M_AGE65  EP_AGE65  MP_AGE65  ...  \\\n",
       "0   6.831377         0        11        0       11       NaN       NaN  ...   \n",
       "1   0.288635      2063       141      285       59      13.8       2.8  ...   \n",
       "2  28.807749      2434       121      568       73      23.3       2.6  ...   \n",
       "3   0.389240      2114        92      368       28      17.4       1.2  ...   \n",
       "4   2.445160      4685       191      999       74      21.3       1.8  ...   \n",
       "\n",
       "   M_SNGPNT  EP_SNGPNT  MP_SNGPNT  EPL_SNGPNT  F_SNGPNT  F_THEME2  SPL_THEME2  \\\n",
       "0        15        0.0        NaN         NaN       NaN       NaN         NaN   \n",
       "1        15        0.0        1.4      0.0000       0.0       0.0      0.3520   \n",
       "2        12        0.4        1.2      0.0117       0.0       1.0      1.4788   \n",
       "3        20        5.2        2.3      0.2464       0.0       0.0      1.3963   \n",
       "4        39        4.2        2.3      0.1652       0.0       0.0      1.8367   \n",
       "\n",
       "   RPL_THEME2  SPL_THEMES  RPL_THEMES  \n",
       "0         NaN         NaN         NaN  \n",
       "1      0.0072      2.2720      0.0027  \n",
       "2      0.1844      2.4760      0.0045  \n",
       "3      0.1510      2.6407      0.0091  \n",
       "4      0.3816      2.9959      0.0136  \n",
       "\n",
       "[5 rows x 35 columns]"
      ]
     },
     "execution_count": 36,
     "metadata": {},
     "output_type": "execute_result"
    }
   ],
   "source": [
    "hcompo_disabl2018_df = jeff2018_df.loc[ : , ('FIPS', 'COUNTY', 'LOCATION', 'AREA_SQMI', 'E_TOTPOP', 'M_TOTPOP', 'E_AGE65', 'M_AGE65', 'EP_AGE65', 'MP_AGE65', 'EPL_AGE65', 'F_AGE65', 'E_AGE17', 'M_AGE17', 'EP_AGE17', 'MP_AGE17', 'EPL_AGE17', 'F_AGE17', 'E_DISABL', 'M_DISABL', 'EP_DISABL', 'MP_DISABL', 'EPL_DISABL', 'F_DISABL', 'E_SNGPNT', 'M_SNGPNT', 'EP_SNGPNT', 'MP_SNGPNT', 'EPL_SNGPNT', 'F_SNGPNT', 'F_THEME2', 'SPL_THEME2', 'RPL_THEME2', 'SPL_THEMES', 'RPL_THEMES')]\n",
    "hcompo_disabl2018_df.index = range(len(hcompo_disabl2018_df.index))\n",
    "hcompo_disabl2018_df.head()"
   ]
  },
  {
   "cell_type": "code",
   "execution_count": 37,
   "metadata": {},
   "outputs": [
    {
     "data": {
      "text/plain": [
       "AREA_SQMI       380.68523\n",
       "E_TOTPOP     767154.00000\n",
       "M_TOTPOP      69912.00000\n",
       "dtype: float64"
      ]
     },
     "execution_count": 37,
     "metadata": {},
     "output_type": "execute_result"
    }
   ],
   "source": [
    "hcompo_disabl2018_df.loc[ : , ('AREA_SQMI', 'E_TOTPOP', 'M_TOTPOP')].sum()"
   ]
  },
  {
   "cell_type": "code",
   "execution_count": 38,
   "metadata": {},
   "outputs": [
    {
     "data": {
      "text/plain": [
       "E_AGE65     615.623037\n",
       "M_AGE65      97.387435\n",
       "E_AGE17     901.628272\n",
       "M_AGE17     192.675393\n",
       "E_DISABL    563.617801\n",
       "M_DISABL    153.460733\n",
       "E_SNGPNT    159.979058\n",
       "M_SNGPNT     76.387435\n",
       "dtype: float64"
      ]
     },
     "execution_count": 38,
     "metadata": {},
     "output_type": "execute_result"
    }
   ],
   "source": [
    "hcompo_disabl2018_df.loc[ : , ('E_AGE65', 'M_AGE65', 'E_AGE17', 'M_AGE17', 'E_DISABL', 'M_DISABL', 'E_SNGPNT', 'M_SNGPNT')].mean()"
   ]
  },
  {
   "cell_type": "code",
   "execution_count": 39,
   "metadata": {},
   "outputs": [
    {
     "data": {
      "image/png": "[encoded data removed]",
      "text/plain": [
       "<Figure size 1152x1152 with 4 Axes>"
      ]
     },
     "metadata": {
      "needs_background": "light"
     },
     "output_type": "display_data"
    }
   ],
   "source": [
    "#code to graph the four factoctor estimates for theme 2 (Household Composition & Disability) to visualize the estimate numbers for 2014, 2016, and 2018 \n",
    "#single-parent households and age 5+ with disability show drop, age 65+ shows increase, and age 17 and younger shows an up and a down, but not significant\n",
    "\n",
    "year_data = np.array([2014, 2016, 2018])\n",
    "\n",
    "age65_data = np.array([hcompo_disabl2014_df['E_AGE65'].mean(),hcompo_disabl2016_df['E_AGE65'].mean(),hcompo_disabl2018_df['E_AGE65'].mean()])\n",
    "age17_data = np.array([hcompo_disabl2014_df['E_AGE17'].mean(),hcompo_disabl2016_df['E_AGE17'].mean(),hcompo_disabl2018_df['E_AGE17'].mean()])\n",
    "disabl_data = np.array([hcompo_disabl2014_df['E_DISABL'].mean(),hcompo_disabl2016_df['E_DISABL'].mean(),hcompo_disabl2018_df['E_DISABL'].mean()])\n",
    "sngpnt_data = np.array([hcompo_disabl2014_df['E_SNGPNT'].mean(),hcompo_disabl2016_df['E_SNGPNT'].mean(),hcompo_disabl2018_df['E_SNGPNT'].mean()])\n",
    "\n",
    "fig,hcompo_disabl = plt.subplots(2,2, figsize = (16,16))\n",
    "hcompo_disabl[0][0].plot(year_data, age65_data, 'bo', lw = 2., ls = '-.')\n",
    "hcompo_disabl[0][0].set_xlabel('Years')\n",
    "hcompo_disabl[0][0].grid(True)\n",
    "hcompo_disabl[0][0].set_title('Persons age 65 and older')\n",
    "hcompo_disabl[0][1].plot(year_data, age17_data, 'ro', lw = 2., ls = '-.')\n",
    "hcompo_disabl[0][1].grid(True)\n",
    "hcompo_disabl[0][1].set_title('Persons age 17 and younger')\n",
    "hcompo_disabl[0][1].set_xlabel('Years')\n",
    "hcompo_disabl[1][0].plot(year_data, disabl_data, 'go', lw = 2., ls = '-.')\n",
    "hcompo_disabl[1][0].grid(True)\n",
    "hcompo_disabl[1][0].set_title('Disability')\n",
    "hcompo_disabl[1][0].set_xlabel('Years')\n",
    "hcompo_disabl[1][1].plot(year_data, sngpnt_data, 'yo', lw = 2., ls = '-.')\n",
    "hcompo_disabl[1][1].grid(True)\n",
    "hcompo_disabl[1][1].set_title('Single parent household-children under 18')\n",
    "hcompo_disabl[1][1].set_xlabel('Years')\n",
    "plt.show()"
   ]
  },
  {
   "cell_type": "code",
   "execution_count": 40,
   "metadata": {},
   "outputs": [
    {
     "data": {
      "text/html": [
       "<div>\n",
       "<style scoped>\n",
       "    .dataframe tbody tr th:only-of-type {\n",
       "        vertical-align: middle;\n",
       "    }\n",
       "\n",
       "    .dataframe tbody tr th {\n",
       "        vertical-align: top;\n",
       "    }\n",
       "\n",
       "    .dataframe thead th {\n",
       "        text-align: right;\n",
       "    }\n",
       "</style>\n",
       "<table border=\"1\" class=\"dataframe\">\n",
       "  <thead>\n",
       "    <tr style=\"text-align: right;\">\n",
       "      <th></th>\n",
       "      <th>FIPS</th>\n",
       "      <th>COUNTY</th>\n",
       "      <th>LOCATION</th>\n",
       "      <th>AREA_SQMI</th>\n",
       "      <th>E_TOTPOP</th>\n",
       "      <th>M_TOTPOP</th>\n",
       "      <th>E_MINRTY</th>\n",
       "      <th>M_MINRTY</th>\n",
       "      <th>EP_MINRTY</th>\n",
       "      <th>MP_MINRTY</th>\n",
       "      <th>...</th>\n",
       "      <th>M_LIMENG</th>\n",
       "      <th>EP_LIMENG</th>\n",
       "      <th>MP_LIMENG</th>\n",
       "      <th>EPL_LIMENG</th>\n",
       "      <th>F_LIMENG</th>\n",
       "      <th>F_THEME3</th>\n",
       "      <th>SPL_THEME3</th>\n",
       "      <th>RPL_THEME3</th>\n",
       "      <th>SPL_THEMES</th>\n",
       "      <th>RPL_THEMES</th>\n",
       "    </tr>\n",
       "  </thead>\n",
       "  <tbody>\n",
       "    <tr>\n",
       "      <th>0</th>\n",
       "      <td>21111000200</td>\n",
       "      <td>Jefferson</td>\n",
       "      <td>Census Tract 2, Jefferson County, Kentucky</td>\n",
       "      <td>1.135250</td>\n",
       "      <td>2792.0</td>\n",
       "      <td>386.0</td>\n",
       "      <td>611.0</td>\n",
       "      <td>505.2</td>\n",
       "      <td>21.9</td>\n",
       "      <td>17.8</td>\n",
       "      <td>...</td>\n",
       "      <td>43.2</td>\n",
       "      <td>0.2</td>\n",
       "      <td>1.7</td>\n",
       "      <td>0.4506</td>\n",
       "      <td>0.0</td>\n",
       "      <td>0.0</td>\n",
       "      <td>1.2522</td>\n",
       "      <td>0.6661</td>\n",
       "      <td>10.5825</td>\n",
       "      <td>0.9531</td>\n",
       "    </tr>\n",
       "    <tr>\n",
       "      <th>1</th>\n",
       "      <td>21111000400</td>\n",
       "      <td>Jefferson</td>\n",
       "      <td>Census Tract 4, Jefferson County, Kentucky</td>\n",
       "      <td>1.108256</td>\n",
       "      <td>5113.0</td>\n",
       "      <td>435.0</td>\n",
       "      <td>3960.0</td>\n",
       "      <td>506.8</td>\n",
       "      <td>77.4</td>\n",
       "      <td>7.4</td>\n",
       "      <td>...</td>\n",
       "      <td>45.2</td>\n",
       "      <td>0.2</td>\n",
       "      <td>0.9</td>\n",
       "      <td>0.4605</td>\n",
       "      <td>0.0</td>\n",
       "      <td>1.0</td>\n",
       "      <td>1.4399</td>\n",
       "      <td>0.7639</td>\n",
       "      <td>10.0680</td>\n",
       "      <td>0.9134</td>\n",
       "    </tr>\n",
       "    <tr>\n",
       "      <th>2</th>\n",
       "      <td>21111000600</td>\n",
       "      <td>Jefferson</td>\n",
       "      <td>Census Tract 6, Jefferson County, Kentucky</td>\n",
       "      <td>0.457008</td>\n",
       "      <td>1640.0</td>\n",
       "      <td>251.0</td>\n",
       "      <td>1598.0</td>\n",
       "      <td>253.6</td>\n",
       "      <td>97.4</td>\n",
       "      <td>4.1</td>\n",
       "      <td>...</td>\n",
       "      <td>44.3</td>\n",
       "      <td>0.5</td>\n",
       "      <td>3.0</td>\n",
       "      <td>0.6167</td>\n",
       "      <td>0.0</td>\n",
       "      <td>1.0</td>\n",
       "      <td>1.6131</td>\n",
       "      <td>0.8528</td>\n",
       "      <td>11.5115</td>\n",
       "      <td>0.9874</td>\n",
       "    </tr>\n",
       "    <tr>\n",
       "      <th>3</th>\n",
       "      <td>21111000700</td>\n",
       "      <td>Jefferson</td>\n",
       "      <td>Census Tract 7, Jefferson County, Kentucky</td>\n",
       "      <td>0.351949</td>\n",
       "      <td>2882.0</td>\n",
       "      <td>385.0</td>\n",
       "      <td>2490.0</td>\n",
       "      <td>487.5</td>\n",
       "      <td>86.4</td>\n",
       "      <td>12.4</td>\n",
       "      <td>...</td>\n",
       "      <td>44.0</td>\n",
       "      <td>0.0</td>\n",
       "      <td>1.6</td>\n",
       "      <td>0.0000</td>\n",
       "      <td>0.0</td>\n",
       "      <td>1.0</td>\n",
       "      <td>0.9865</td>\n",
       "      <td>0.5368</td>\n",
       "      <td>10.0694</td>\n",
       "      <td>0.9143</td>\n",
       "    </tr>\n",
       "    <tr>\n",
       "      <th>4</th>\n",
       "      <td>21111000900</td>\n",
       "      <td>Jefferson</td>\n",
       "      <td>Census Tract 9, Jefferson County, Kentucky</td>\n",
       "      <td>0.247888</td>\n",
       "      <td>2057.0</td>\n",
       "      <td>262.0</td>\n",
       "      <td>2023.0</td>\n",
       "      <td>263.8</td>\n",
       "      <td>98.3</td>\n",
       "      <td>2.8</td>\n",
       "      <td>...</td>\n",
       "      <td>44.0</td>\n",
       "      <td>0.0</td>\n",
       "      <td>2.3</td>\n",
       "      <td>0.0000</td>\n",
       "      <td>0.0</td>\n",
       "      <td>1.0</td>\n",
       "      <td>0.9973</td>\n",
       "      <td>0.5458</td>\n",
       "      <td>8.9050</td>\n",
       "      <td>0.7764</td>\n",
       "    </tr>\n",
       "  </tbody>\n",
       "</table>\n",
       "<p>5 rows × 23 columns</p>\n",
       "</div>"
      ],
      "text/plain": [
       "          FIPS      COUNTY                                    LOCATION  \\\n",
       "0  21111000200   Jefferson  Census Tract 2, Jefferson County, Kentucky   \n",
       "1  21111000400   Jefferson  Census Tract 4, Jefferson County, Kentucky   \n",
       "2  21111000600   Jefferson  Census Tract 6, Jefferson County, Kentucky   \n",
       "3  21111000700   Jefferson  Census Tract 7, Jefferson County, Kentucky   \n",
       "4  21111000900   Jefferson  Census Tract 9, Jefferson County, Kentucky   \n",
       "\n",
       "   AREA_SQMI  E_TOTPOP  M_TOTPOP  E_MINRTY  M_MINRTY  EP_MINRTY  MP_MINRTY  \\\n",
       "0   1.135250    2792.0     386.0     611.0     505.2       21.9       17.8   \n",
       "1   1.108256    5113.0     435.0    3960.0     506.8       77.4        7.4   \n",
       "2   0.457008    1640.0     251.0    1598.0     253.6       97.4        4.1   \n",
       "3   0.351949    2882.0     385.0    2490.0     487.5       86.4       12.4   \n",
       "4   0.247888    2057.0     262.0    2023.0     263.8       98.3        2.8   \n",
       "\n",
       "   ...  M_LIMENG  EP_LIMENG  MP_LIMENG  EPL_LIMENG  F_LIMENG  F_THEME3  \\\n",
       "0  ...      43.2        0.2        1.7      0.4506       0.0       0.0   \n",
       "1  ...      45.2        0.2        0.9      0.4605       0.0       1.0   \n",
       "2  ...      44.3        0.5        3.0      0.6167       0.0       1.0   \n",
       "3  ...      44.0        0.0        1.6      0.0000       0.0       1.0   \n",
       "4  ...      44.0        0.0        2.3      0.0000       0.0       1.0   \n",
       "\n",
       "   SPL_THEME3  RPL_THEME3  SPL_THEMES  RPL_THEMES  \n",
       "0      1.2522      0.6661     10.5825      0.9531  \n",
       "1      1.4399      0.7639     10.0680      0.9134  \n",
       "2      1.6131      0.8528     11.5115      0.9874  \n",
       "3      0.9865      0.5368     10.0694      0.9143  \n",
       "4      0.9973      0.5458      8.9050      0.7764  \n",
       "\n",
       "[5 rows x 23 columns]"
      ]
     },
     "execution_count": 40,
     "metadata": {},
     "output_type": "execute_result"
    }
   ],
   "source": [
    "minrty_lang2014_df =jeff2014_df.loc[ : , ('FIPS', 'COUNTY', 'LOCATION', 'AREA_SQMI', 'E_TOTPOP', 'M_TOTPOP', 'E_MINRTY', 'M_MINRTY', 'EP_MINRTY', 'MP_MINRTY', 'EPL_MINRTY', 'F_MINRTY', 'E_LIMENG', 'M_LIMENG', 'EP_LIMENG', 'MP_LIMENG', 'EPL_LIMENG', 'F_LIMENG', 'F_THEME3', 'SPL_THEME3', 'RPL_THEME3', 'SPL_THEMES', 'RPL_THEMES')]\n",
    "minrty_lang2014_df.index = range(len(minrty_lang2014_df.index))\n",
    "minrty_lang2014_df.head()"
   ]
  },
  {
   "cell_type": "code",
   "execution_count": 41,
   "metadata": {},
   "outputs": [
    {
     "data": {
      "text/plain": [
       "AREA_SQMI       380.430993\n",
       "E_TOTPOP     751485.000000\n",
       "M_TOTPOP      67018.000000\n",
       "dtype: float64"
      ]
     },
     "execution_count": 41,
     "metadata": {},
     "output_type": "execute_result"
    }
   ],
   "source": [
    "minrty_lang2014_df.loc[ : , ('AREA_SQMI', 'E_TOTPOP', 'M_TOTPOP')].sum()"
   ]
  },
  {
   "cell_type": "code",
   "execution_count": 42,
   "metadata": {},
   "outputs": [
    {
     "data": {
      "text/plain": [
       "E_MINRTY    1184.382199\n",
       "M_MINRTY     468.892670\n",
       "E_LIMENG      75.041885\n",
       "M_LIMENG      82.043979\n",
       "dtype: float64"
      ]
     },
     "execution_count": 42,
     "metadata": {},
     "output_type": "execute_result"
    }
   ],
   "source": [
    "minrty_lang2014_df.loc[ : , ('E_MINRTY', 'M_MINRTY', 'E_LIMENG', 'M_LIMENG')].mean()"
   ]
  },
  {
   "cell_type": "code",
   "execution_count": 43,
   "metadata": {},
   "outputs": [
    {
     "data": {
      "text/html": [
       "<div>\n",
       "<style scoped>\n",
       "    .dataframe tbody tr th:only-of-type {\n",
       "        vertical-align: middle;\n",
       "    }\n",
       "\n",
       "    .dataframe tbody tr th {\n",
       "        vertical-align: top;\n",
       "    }\n",
       "\n",
       "    .dataframe thead th {\n",
       "        text-align: right;\n",
       "    }\n",
       "</style>\n",
       "<table border=\"1\" class=\"dataframe\">\n",
       "  <thead>\n",
       "    <tr style=\"text-align: right;\">\n",
       "      <th></th>\n",
       "      <th>FIPS</th>\n",
       "      <th>COUNTY</th>\n",
       "      <th>LOCATION</th>\n",
       "      <th>AREA_SQMI</th>\n",
       "      <th>E_TOTPOP</th>\n",
       "      <th>M_TOTPOP</th>\n",
       "      <th>E_MINRTY</th>\n",
       "      <th>M_MINRTY</th>\n",
       "      <th>EP_MINRTY</th>\n",
       "      <th>MP_MINRTY</th>\n",
       "      <th>...</th>\n",
       "      <th>M_LIMENG</th>\n",
       "      <th>EP_LIMENG</th>\n",
       "      <th>MP_LIMENG</th>\n",
       "      <th>EPL_LIMENG</th>\n",
       "      <th>F_LIMENG</th>\n",
       "      <th>F_THEME3</th>\n",
       "      <th>SPL_THEME3</th>\n",
       "      <th>RPL_THEME3</th>\n",
       "      <th>SPL_THEMES</th>\n",
       "      <th>RPL_THEMES</th>\n",
       "    </tr>\n",
       "  </thead>\n",
       "  <tbody>\n",
       "    <tr>\n",
       "      <th>0</th>\n",
       "      <td>21111000200</td>\n",
       "      <td>Jefferson</td>\n",
       "      <td>Census Tract 2, Jefferson County, Kentucky</td>\n",
       "      <td>1.135250</td>\n",
       "      <td>2792.0</td>\n",
       "      <td>386.0</td>\n",
       "      <td>611.0</td>\n",
       "      <td>505.2</td>\n",
       "      <td>21.9</td>\n",
       "      <td>17.8</td>\n",
       "      <td>...</td>\n",
       "      <td>43.2</td>\n",
       "      <td>0.2</td>\n",
       "      <td>1.7</td>\n",
       "      <td>0.4506</td>\n",
       "      <td>0.0</td>\n",
       "      <td>0.0</td>\n",
       "      <td>1.2522</td>\n",
       "      <td>0.6661</td>\n",
       "      <td>10.5825</td>\n",
       "      <td>0.9531</td>\n",
       "    </tr>\n",
       "    <tr>\n",
       "      <th>1</th>\n",
       "      <td>21111000400</td>\n",
       "      <td>Jefferson</td>\n",
       "      <td>Census Tract 4, Jefferson County, Kentucky</td>\n",
       "      <td>1.108256</td>\n",
       "      <td>5113.0</td>\n",
       "      <td>435.0</td>\n",
       "      <td>3960.0</td>\n",
       "      <td>506.8</td>\n",
       "      <td>77.4</td>\n",
       "      <td>7.4</td>\n",
       "      <td>...</td>\n",
       "      <td>45.2</td>\n",
       "      <td>0.2</td>\n",
       "      <td>0.9</td>\n",
       "      <td>0.4605</td>\n",
       "      <td>0.0</td>\n",
       "      <td>1.0</td>\n",
       "      <td>1.4399</td>\n",
       "      <td>0.7639</td>\n",
       "      <td>10.0680</td>\n",
       "      <td>0.9134</td>\n",
       "    </tr>\n",
       "    <tr>\n",
       "      <th>2</th>\n",
       "      <td>21111000600</td>\n",
       "      <td>Jefferson</td>\n",
       "      <td>Census Tract 6, Jefferson County, Kentucky</td>\n",
       "      <td>0.457008</td>\n",
       "      <td>1640.0</td>\n",
       "      <td>251.0</td>\n",
       "      <td>1598.0</td>\n",
       "      <td>253.6</td>\n",
       "      <td>97.4</td>\n",
       "      <td>4.1</td>\n",
       "      <td>...</td>\n",
       "      <td>44.3</td>\n",
       "      <td>0.5</td>\n",
       "      <td>3.0</td>\n",
       "      <td>0.6167</td>\n",
       "      <td>0.0</td>\n",
       "      <td>1.0</td>\n",
       "      <td>1.6131</td>\n",
       "      <td>0.8528</td>\n",
       "      <td>11.5115</td>\n",
       "      <td>0.9874</td>\n",
       "    </tr>\n",
       "    <tr>\n",
       "      <th>3</th>\n",
       "      <td>21111000700</td>\n",
       "      <td>Jefferson</td>\n",
       "      <td>Census Tract 7, Jefferson County, Kentucky</td>\n",
       "      <td>0.351949</td>\n",
       "      <td>2882.0</td>\n",
       "      <td>385.0</td>\n",
       "      <td>2490.0</td>\n",
       "      <td>487.5</td>\n",
       "      <td>86.4</td>\n",
       "      <td>12.4</td>\n",
       "      <td>...</td>\n",
       "      <td>44.0</td>\n",
       "      <td>0.0</td>\n",
       "      <td>1.6</td>\n",
       "      <td>0.0000</td>\n",
       "      <td>0.0</td>\n",
       "      <td>1.0</td>\n",
       "      <td>0.9865</td>\n",
       "      <td>0.5368</td>\n",
       "      <td>10.0694</td>\n",
       "      <td>0.9143</td>\n",
       "    </tr>\n",
       "    <tr>\n",
       "      <th>4</th>\n",
       "      <td>21111000900</td>\n",
       "      <td>Jefferson</td>\n",
       "      <td>Census Tract 9, Jefferson County, Kentucky</td>\n",
       "      <td>0.247888</td>\n",
       "      <td>2057.0</td>\n",
       "      <td>262.0</td>\n",
       "      <td>2023.0</td>\n",
       "      <td>263.8</td>\n",
       "      <td>98.3</td>\n",
       "      <td>2.8</td>\n",
       "      <td>...</td>\n",
       "      <td>44.0</td>\n",
       "      <td>0.0</td>\n",
       "      <td>2.3</td>\n",
       "      <td>0.0000</td>\n",
       "      <td>0.0</td>\n",
       "      <td>1.0</td>\n",
       "      <td>0.9973</td>\n",
       "      <td>0.5458</td>\n",
       "      <td>8.9050</td>\n",
       "      <td>0.7764</td>\n",
       "    </tr>\n",
       "  </tbody>\n",
       "</table>\n",
       "<p>5 rows × 23 columns</p>\n",
       "</div>"
      ],
      "text/plain": [
       "          FIPS      COUNTY                                    LOCATION  \\\n",
       "0  21111000200   Jefferson  Census Tract 2, Jefferson County, Kentucky   \n",
       "1  21111000400   Jefferson  Census Tract 4, Jefferson County, Kentucky   \n",
       "2  21111000600   Jefferson  Census Tract 6, Jefferson County, Kentucky   \n",
       "3  21111000700   Jefferson  Census Tract 7, Jefferson County, Kentucky   \n",
       "4  21111000900   Jefferson  Census Tract 9, Jefferson County, Kentucky   \n",
       "\n",
       "   AREA_SQMI  E_TOTPOP  M_TOTPOP  E_MINRTY  M_MINRTY  EP_MINRTY  MP_MINRTY  \\\n",
       "0   1.135250    2792.0     386.0     611.0     505.2       21.9       17.8   \n",
       "1   1.108256    5113.0     435.0    3960.0     506.8       77.4        7.4   \n",
       "2   0.457008    1640.0     251.0    1598.0     253.6       97.4        4.1   \n",
       "3   0.351949    2882.0     385.0    2490.0     487.5       86.4       12.4   \n",
       "4   0.247888    2057.0     262.0    2023.0     263.8       98.3        2.8   \n",
       "\n",
       "   ...  M_LIMENG  EP_LIMENG  MP_LIMENG  EPL_LIMENG  F_LIMENG  F_THEME3  \\\n",
       "0  ...      43.2        0.2        1.7      0.4506       0.0       0.0   \n",
       "1  ...      45.2        0.2        0.9      0.4605       0.0       1.0   \n",
       "2  ...      44.3        0.5        3.0      0.6167       0.0       1.0   \n",
       "3  ...      44.0        0.0        1.6      0.0000       0.0       1.0   \n",
       "4  ...      44.0        0.0        2.3      0.0000       0.0       1.0   \n",
       "\n",
       "   SPL_THEME3  RPL_THEME3  SPL_THEMES  RPL_THEMES  \n",
       "0      1.2522      0.6661     10.5825      0.9531  \n",
       "1      1.4399      0.7639     10.0680      0.9134  \n",
       "2      1.6131      0.8528     11.5115      0.9874  \n",
       "3      0.9865      0.5368     10.0694      0.9143  \n",
       "4      0.9973      0.5458      8.9050      0.7764  \n",
       "\n",
       "[5 rows x 23 columns]"
      ]
     },
     "execution_count": 43,
     "metadata": {},
     "output_type": "execute_result"
    }
   ],
   "source": [
    "minrty_lang2016_df = jeff2014_df.loc[ : , ('FIPS', 'COUNTY', 'LOCATION', 'AREA_SQMI', 'E_TOTPOP', 'M_TOTPOP', 'E_MINRTY', 'M_MINRTY', 'EP_MINRTY', 'MP_MINRTY', 'EPL_MINRTY', 'F_MINRTY', 'E_LIMENG', 'M_LIMENG', 'EP_LIMENG', 'MP_LIMENG', 'EPL_LIMENG', 'F_LIMENG', 'F_THEME3', 'SPL_THEME3', 'RPL_THEME3', 'SPL_THEMES', 'RPL_THEMES')]\n",
    "minrty_lang2016_df.index = range(len(minrty_lang2016_df.index))\n",
    "minrty_lang2016_df.head()"
   ]
  },
  {
   "cell_type": "code",
   "execution_count": 44,
   "metadata": {},
   "outputs": [
    {
     "data": {
      "text/plain": [
       "AREA_SQMI       380.430993\n",
       "E_TOTPOP     751485.000000\n",
       "M_TOTPOP      67018.000000\n",
       "dtype: float64"
      ]
     },
     "execution_count": 44,
     "metadata": {},
     "output_type": "execute_result"
    }
   ],
   "source": [
    "minrty_lang2016_df.loc[ : , ('AREA_SQMI', 'E_TOTPOP', 'M_TOTPOP')].sum()"
   ]
  },
  {
   "cell_type": "code",
   "execution_count": 45,
   "metadata": {},
   "outputs": [
    {
     "data": {
      "text/plain": [
       "E_MINRTY    1184.382199\n",
       "M_MINRTY     468.892670\n",
       "E_LIMENG      75.041885\n",
       "M_LIMENG      82.043979\n",
       "dtype: float64"
      ]
     },
     "execution_count": 45,
     "metadata": {},
     "output_type": "execute_result"
    }
   ],
   "source": [
    "minrty_lang2016_df.loc[ : , ('E_MINRTY', 'M_MINRTY', 'E_LIMENG', 'M_LIMENG')].mean()"
   ]
  },
  {
   "cell_type": "code",
   "execution_count": 46,
   "metadata": {},
   "outputs": [
    {
     "data": {
      "text/html": [
       "<div>\n",
       "<style scoped>\n",
       "    .dataframe tbody tr th:only-of-type {\n",
       "        vertical-align: middle;\n",
       "    }\n",
       "\n",
       "    .dataframe tbody tr th {\n",
       "        vertical-align: top;\n",
       "    }\n",
       "\n",
       "    .dataframe thead th {\n",
       "        text-align: right;\n",
       "    }\n",
       "</style>\n",
       "<table border=\"1\" class=\"dataframe\">\n",
       "  <thead>\n",
       "    <tr style=\"text-align: right;\">\n",
       "      <th></th>\n",
       "      <th>FIPS</th>\n",
       "      <th>COUNTY</th>\n",
       "      <th>LOCATION</th>\n",
       "      <th>AREA_SQMI</th>\n",
       "      <th>E_TOTPOP</th>\n",
       "      <th>M_TOTPOP</th>\n",
       "      <th>E_MINRTY</th>\n",
       "      <th>M_MINRTY</th>\n",
       "      <th>EP_MINRTY</th>\n",
       "      <th>MP_MINRTY</th>\n",
       "      <th>...</th>\n",
       "      <th>M_LIMENG</th>\n",
       "      <th>EP_LIMENG</th>\n",
       "      <th>MP_LIMENG</th>\n",
       "      <th>EPL_LIMENG</th>\n",
       "      <th>F_LIMENG</th>\n",
       "      <th>F_THEME3</th>\n",
       "      <th>SPL_THEME3</th>\n",
       "      <th>RPL_THEME3</th>\n",
       "      <th>SPL_THEMES</th>\n",
       "      <th>RPL_THEMES</th>\n",
       "    </tr>\n",
       "  </thead>\n",
       "  <tbody>\n",
       "    <tr>\n",
       "      <th>0</th>\n",
       "      <td>21111980100</td>\n",
       "      <td>Jefferson</td>\n",
       "      <td>Census Tract 9801, Jefferson County, Kentucky</td>\n",
       "      <td>6.831377</td>\n",
       "      <td>0</td>\n",
       "      <td>11</td>\n",
       "      <td>0</td>\n",
       "      <td>15</td>\n",
       "      <td>0.0</td>\n",
       "      <td>NaN</td>\n",
       "      <td>...</td>\n",
       "      <td>44</td>\n",
       "      <td>0.0</td>\n",
       "      <td>NaN</td>\n",
       "      <td>NaN</td>\n",
       "      <td>NaN</td>\n",
       "      <td>NaN</td>\n",
       "      <td>NaN</td>\n",
       "      <td>NaN</td>\n",
       "      <td>NaN</td>\n",
       "      <td>NaN</td>\n",
       "    </tr>\n",
       "    <tr>\n",
       "      <th>1</th>\n",
       "      <td>21111008500</td>\n",
       "      <td>Jefferson</td>\n",
       "      <td>Census Tract 85, Jefferson County, Kentucky</td>\n",
       "      <td>0.288635</td>\n",
       "      <td>2063</td>\n",
       "      <td>141</td>\n",
       "      <td>122</td>\n",
       "      <td>198</td>\n",
       "      <td>5.9</td>\n",
       "      <td>9.6</td>\n",
       "      <td>...</td>\n",
       "      <td>44</td>\n",
       "      <td>0.0</td>\n",
       "      <td>2.2</td>\n",
       "      <td>0.0000</td>\n",
       "      <td>0.0</td>\n",
       "      <td>0.0</td>\n",
       "      <td>0.3619</td>\n",
       "      <td>0.2500</td>\n",
       "      <td>2.2720</td>\n",
       "      <td>0.0027</td>\n",
       "    </tr>\n",
       "    <tr>\n",
       "      <th>2</th>\n",
       "      <td>21111011604</td>\n",
       "      <td>Jefferson</td>\n",
       "      <td>Census Tract 116.04, Jefferson County, Kentucky</td>\n",
       "      <td>28.807749</td>\n",
       "      <td>2434</td>\n",
       "      <td>121</td>\n",
       "      <td>62</td>\n",
       "      <td>169</td>\n",
       "      <td>2.5</td>\n",
       "      <td>6.9</td>\n",
       "      <td>...</td>\n",
       "      <td>44</td>\n",
       "      <td>0.0</td>\n",
       "      <td>1.9</td>\n",
       "      <td>0.0000</td>\n",
       "      <td>0.0</td>\n",
       "      <td>0.0</td>\n",
       "      <td>0.1453</td>\n",
       "      <td>0.1182</td>\n",
       "      <td>2.4760</td>\n",
       "      <td>0.0045</td>\n",
       "    </tr>\n",
       "    <tr>\n",
       "      <th>3</th>\n",
       "      <td>21111013100</td>\n",
       "      <td>Jefferson</td>\n",
       "      <td>Census Tract 131, Jefferson County, Kentucky</td>\n",
       "      <td>0.389240</td>\n",
       "      <td>2114</td>\n",
       "      <td>92</td>\n",
       "      <td>77</td>\n",
       "      <td>131</td>\n",
       "      <td>3.6</td>\n",
       "      <td>6.2</td>\n",
       "      <td>...</td>\n",
       "      <td>42</td>\n",
       "      <td>0.2</td>\n",
       "      <td>2.1</td>\n",
       "      <td>0.4801</td>\n",
       "      <td>0.0</td>\n",
       "      <td>0.0</td>\n",
       "      <td>0.6958</td>\n",
       "      <td>0.4251</td>\n",
       "      <td>2.6407</td>\n",
       "      <td>0.0091</td>\n",
       "    </tr>\n",
       "    <tr>\n",
       "      <th>4</th>\n",
       "      <td>21111010317</td>\n",
       "      <td>Jefferson</td>\n",
       "      <td>Census Tract 103.17, Jefferson County, Kentucky</td>\n",
       "      <td>2.445160</td>\n",
       "      <td>4685</td>\n",
       "      <td>191</td>\n",
       "      <td>414</td>\n",
       "      <td>301</td>\n",
       "      <td>8.8</td>\n",
       "      <td>6.4</td>\n",
       "      <td>...</td>\n",
       "      <td>44</td>\n",
       "      <td>0.2</td>\n",
       "      <td>1.0</td>\n",
       "      <td>0.4801</td>\n",
       "      <td>0.0</td>\n",
       "      <td>0.0</td>\n",
       "      <td>0.9774</td>\n",
       "      <td>0.5569</td>\n",
       "      <td>2.9959</td>\n",
       "      <td>0.0136</td>\n",
       "    </tr>\n",
       "  </tbody>\n",
       "</table>\n",
       "<p>5 rows × 23 columns</p>\n",
       "</div>"
      ],
      "text/plain": [
       "          FIPS     COUNTY                                         LOCATION  \\\n",
       "0  21111980100  Jefferson    Census Tract 9801, Jefferson County, Kentucky   \n",
       "1  21111008500  Jefferson      Census Tract 85, Jefferson County, Kentucky   \n",
       "2  21111011604  Jefferson  Census Tract 116.04, Jefferson County, Kentucky   \n",
       "3  21111013100  Jefferson     Census Tract 131, Jefferson County, Kentucky   \n",
       "4  21111010317  Jefferson  Census Tract 103.17, Jefferson County, Kentucky   \n",
       "\n",
       "   AREA_SQMI  E_TOTPOP  M_TOTPOP  E_MINRTY  M_MINRTY  EP_MINRTY  MP_MINRTY  \\\n",
       "0   6.831377         0        11         0        15        0.0        NaN   \n",
       "1   0.288635      2063       141       122       198        5.9        9.6   \n",
       "2  28.807749      2434       121        62       169        2.5        6.9   \n",
       "3   0.389240      2114        92        77       131        3.6        6.2   \n",
       "4   2.445160      4685       191       414       301        8.8        6.4   \n",
       "\n",
       "   ...  M_LIMENG  EP_LIMENG  MP_LIMENG  EPL_LIMENG  F_LIMENG  F_THEME3  \\\n",
       "0  ...        44        0.0        NaN         NaN       NaN       NaN   \n",
       "1  ...        44        0.0        2.2      0.0000       0.0       0.0   \n",
       "2  ...        44        0.0        1.9      0.0000       0.0       0.0   \n",
       "3  ...        42        0.2        2.1      0.4801       0.0       0.0   \n",
       "4  ...        44        0.2        1.0      0.4801       0.0       0.0   \n",
       "\n",
       "   SPL_THEME3  RPL_THEME3  SPL_THEMES  RPL_THEMES  \n",
       "0         NaN         NaN         NaN         NaN  \n",
       "1      0.3619      0.2500      2.2720      0.0027  \n",
       "2      0.1453      0.1182      2.4760      0.0045  \n",
       "3      0.6958      0.4251      2.6407      0.0091  \n",
       "4      0.9774      0.5569      2.9959      0.0136  \n",
       "\n",
       "[5 rows x 23 columns]"
      ]
     },
     "execution_count": 46,
     "metadata": {},
     "output_type": "execute_result"
    }
   ],
   "source": [
    "minrty_lang2018_df = jeff2018_df.loc[ : , ('FIPS', 'COUNTY', 'LOCATION', 'AREA_SQMI', 'E_TOTPOP', 'M_TOTPOP', 'E_MINRTY', 'M_MINRTY', 'EP_MINRTY', 'MP_MINRTY', 'EPL_MINRTY', 'F_MINRTY', 'E_LIMENG', 'M_LIMENG', 'EP_LIMENG', 'MP_LIMENG', 'EPL_LIMENG', 'F_LIMENG', 'F_THEME3', 'SPL_THEME3', 'RPL_THEME3', 'SPL_THEMES', 'RPL_THEMES')]\n",
    "minrty_lang2018_df.index = range(len(minrty_lang2018_df.index))\n",
    "minrty_lang2018_df.head()"
   ]
  },
  {
   "cell_type": "code",
   "execution_count": 47,
   "metadata": {},
   "outputs": [
    {
     "data": {
      "text/plain": [
       "AREA_SQMI       380.68523\n",
       "E_TOTPOP     767154.00000\n",
       "M_TOTPOP      69912.00000\n",
       "dtype: float64"
      ]
     },
     "execution_count": 47,
     "metadata": {},
     "output_type": "execute_result"
    }
   ],
   "source": [
    "minrty_lang2018_df.loc[ : , ('AREA_SQMI', 'E_TOTPOP', 'M_TOTPOP')].sum()"
   ]
  },
  {
   "cell_type": "code",
   "execution_count": 48,
   "metadata": {},
   "outputs": [
    {
     "data": {
      "text/plain": [
       "E_MINRTY    1288.047120\n",
       "M_MINRTY     484.727749\n",
       "E_LIMENG      78.816754\n",
       "M_LIMENG      82.439791\n",
       "dtype: float64"
      ]
     },
     "execution_count": 48,
     "metadata": {},
     "output_type": "execute_result"
    }
   ],
   "source": [
    "minrty_lang2018_df.loc[ : , ('E_MINRTY', 'M_MINRTY', 'E_LIMENG', 'M_LIMENG')].mean()"
   ]
  },
  {
   "cell_type": "code",
   "execution_count": 49,
   "metadata": {},
   "outputs": [
    {
     "name": "stdout",
     "output_type": "stream",
     "text": [
      "[1184.38219895 1184.38219895 1288.04712042]\n",
      "[75.04188482 75.04188482 78.81675393]\n"
     ]
    },
    {
     "data": {
      "text/plain": [
       "Text(0.5, 0, 'Years')"
      ]
     },
     "execution_count": 49,
     "metadata": {},
     "output_type": "execute_result"
    },
    {
     "data": {
      "image/png": "[encoded data removed]",
      "text/plain": [
       "<Figure size 1152x576 with 2 Axes>"
      ]
     },
     "metadata": {
      "needs_background": "light"
     },
     "output_type": "display_data"
    }
   ],
   "source": [
    "#code to graph the two factoctor estimates for theme 3 (Minority Status & Language) to visualize the estimate numbers for 2014, 2016, and 2018 \n",
    "#minority and limited English language show equal numbers between 2014 and 2016, but a high increase for 2018\n",
    "\n",
    "year_data = np.array([2014, 2016, 2018])\n",
    "\n",
    "minority_data = np.array([minrty_lang2014_df['E_MINRTY'].mean(),minrty_lang2016_df['E_MINRTY'].mean(),minrty_lang2018_df['E_MINRTY'].mean()])\n",
    "limitedenglish_data = np.array([minrty_lang2014_df['E_LIMENG'].mean(),minrty_lang2016_df['E_LIMENG'].mean(),minrty_lang2018_df['E_LIMENG'].mean()])\n",
    "print(str(minority_data))\n",
    "print(str(limitedenglish_data))\n",
    "\n",
    "fig,(minority, limeng) = plt.subplots(1,2, figsize = (16,8,))\n",
    "\n",
    "minority.plot(year_data, minority_data, 'bo', lw = 2., ls = '-.')\n",
    "minority.grid(True)\n",
    "minority.set_xlabel('Years')\n",
    "minority.set_title('Minority')\n",
    "\n",
    "limeng.plot(year_data, limitedenglish_data, 'ro', lw = 2., ls = '-.')\n",
    "limeng.grid(True)\n",
    "plt.title('Limited English')    \n",
    "plt.xlabel('Years')"
   ]
  },
  {
   "cell_type": "code",
   "execution_count": 50,
   "metadata": {},
   "outputs": [
    {
     "data": {
      "text/html": [
       "<div>\n",
       "<style scoped>\n",
       "    .dataframe tbody tr th:only-of-type {\n",
       "        vertical-align: middle;\n",
       "    }\n",
       "\n",
       "    .dataframe tbody tr th {\n",
       "        vertical-align: top;\n",
       "    }\n",
       "\n",
       "    .dataframe thead th {\n",
       "        text-align: right;\n",
       "    }\n",
       "</style>\n",
       "<table border=\"1\" class=\"dataframe\">\n",
       "  <thead>\n",
       "    <tr style=\"text-align: right;\">\n",
       "      <th></th>\n",
       "      <th>FIPS</th>\n",
       "      <th>COUNTY</th>\n",
       "      <th>LOCATION</th>\n",
       "      <th>AREA_SQMI</th>\n",
       "      <th>E_TOTPOP</th>\n",
       "      <th>M_TOTPOP</th>\n",
       "      <th>E_MUNIT</th>\n",
       "      <th>M_MUNIT</th>\n",
       "      <th>EP_MUNIT</th>\n",
       "      <th>MP_MUNIT</th>\n",
       "      <th>...</th>\n",
       "      <th>F_NOVEH</th>\n",
       "      <th>E_GROUPQ</th>\n",
       "      <th>M_GROUPQ</th>\n",
       "      <th>EP_GROUPQ</th>\n",
       "      <th>MP_GROUPQ</th>\n",
       "      <th>EPL_GROUPQ</th>\n",
       "      <th>F_GROUPQ</th>\n",
       "      <th>F_THEME4</th>\n",
       "      <th>SPL_THEME4</th>\n",
       "      <th>RPL_THEME4</th>\n",
       "    </tr>\n",
       "  </thead>\n",
       "  <tbody>\n",
       "    <tr>\n",
       "      <th>0</th>\n",
       "      <td>21111000200</td>\n",
       "      <td>Jefferson</td>\n",
       "      <td>Census Tract 2, Jefferson County, Kentucky</td>\n",
       "      <td>1.135250</td>\n",
       "      <td>2792.0</td>\n",
       "      <td>386.0</td>\n",
       "      <td>11.0</td>\n",
       "      <td>19.4</td>\n",
       "      <td>0.8</td>\n",
       "      <td>1.5</td>\n",
       "      <td>...</td>\n",
       "      <td>1.0</td>\n",
       "      <td>235.0</td>\n",
       "      <td>82.0</td>\n",
       "      <td>8.4</td>\n",
       "      <td>2.7</td>\n",
       "      <td>0.9282</td>\n",
       "      <td>1.0</td>\n",
       "      <td>2.0</td>\n",
       "      <td>2.6463</td>\n",
       "      <td>0.6320</td>\n",
       "    </tr>\n",
       "    <tr>\n",
       "      <th>1</th>\n",
       "      <td>21111000400</td>\n",
       "      <td>Jefferson</td>\n",
       "      <td>Census Tract 4, Jefferson County, Kentucky</td>\n",
       "      <td>1.108256</td>\n",
       "      <td>5113.0</td>\n",
       "      <td>435.0</td>\n",
       "      <td>153.0</td>\n",
       "      <td>53.3</td>\n",
       "      <td>7.1</td>\n",
       "      <td>2.5</td>\n",
       "      <td>...</td>\n",
       "      <td>1.0</td>\n",
       "      <td>5.0</td>\n",
       "      <td>9.0</td>\n",
       "      <td>0.1</td>\n",
       "      <td>0.2</td>\n",
       "      <td>0.4982</td>\n",
       "      <td>0.0</td>\n",
       "      <td>1.0</td>\n",
       "      <td>2.8582</td>\n",
       "      <td>0.7181</td>\n",
       "    </tr>\n",
       "    <tr>\n",
       "      <th>2</th>\n",
       "      <td>21111000600</td>\n",
       "      <td>Jefferson</td>\n",
       "      <td>Census Tract 6, Jefferson County, Kentucky</td>\n",
       "      <td>0.457008</td>\n",
       "      <td>1640.0</td>\n",
       "      <td>251.0</td>\n",
       "      <td>110.0</td>\n",
       "      <td>51.4</td>\n",
       "      <td>11.8</td>\n",
       "      <td>5.5</td>\n",
       "      <td>...</td>\n",
       "      <td>1.0</td>\n",
       "      <td>9.0</td>\n",
       "      <td>5.0</td>\n",
       "      <td>0.5</td>\n",
       "      <td>0.3</td>\n",
       "      <td>0.5996</td>\n",
       "      <td>0.0</td>\n",
       "      <td>2.0</td>\n",
       "      <td>3.3689</td>\n",
       "      <td>0.8914</td>\n",
       "    </tr>\n",
       "    <tr>\n",
       "      <th>3</th>\n",
       "      <td>21111000700</td>\n",
       "      <td>Jefferson</td>\n",
       "      <td>Census Tract 7, Jefferson County, Kentucky</td>\n",
       "      <td>0.351949</td>\n",
       "      <td>2882.0</td>\n",
       "      <td>385.0</td>\n",
       "      <td>116.0</td>\n",
       "      <td>68.0</td>\n",
       "      <td>8.4</td>\n",
       "      <td>4.9</td>\n",
       "      <td>...</td>\n",
       "      <td>1.0</td>\n",
       "      <td>2.0</td>\n",
       "      <td>4.0</td>\n",
       "      <td>0.1</td>\n",
       "      <td>0.1</td>\n",
       "      <td>0.4785</td>\n",
       "      <td>0.0</td>\n",
       "      <td>1.0</td>\n",
       "      <td>3.0171</td>\n",
       "      <td>0.7711</td>\n",
       "    </tr>\n",
       "    <tr>\n",
       "      <th>4</th>\n",
       "      <td>21111000900</td>\n",
       "      <td>Jefferson</td>\n",
       "      <td>Census Tract 9, Jefferson County, Kentucky</td>\n",
       "      <td>0.247888</td>\n",
       "      <td>2057.0</td>\n",
       "      <td>262.0</td>\n",
       "      <td>47.0</td>\n",
       "      <td>27.3</td>\n",
       "      <td>4.6</td>\n",
       "      <td>2.7</td>\n",
       "      <td>...</td>\n",
       "      <td>1.0</td>\n",
       "      <td>0.0</td>\n",
       "      <td>11.0</td>\n",
       "      <td>0.0</td>\n",
       "      <td>0.5</td>\n",
       "      <td>0.0000</td>\n",
       "      <td>0.0</td>\n",
       "      <td>1.0</td>\n",
       "      <td>2.3187</td>\n",
       "      <td>0.4776</td>\n",
       "    </tr>\n",
       "  </tbody>\n",
       "</table>\n",
       "<p>5 rows × 39 columns</p>\n",
       "</div>"
      ],
      "text/plain": [
       "          FIPS      COUNTY                                    LOCATION  \\\n",
       "0  21111000200   Jefferson  Census Tract 2, Jefferson County, Kentucky   \n",
       "1  21111000400   Jefferson  Census Tract 4, Jefferson County, Kentucky   \n",
       "2  21111000600   Jefferson  Census Tract 6, Jefferson County, Kentucky   \n",
       "3  21111000700   Jefferson  Census Tract 7, Jefferson County, Kentucky   \n",
       "4  21111000900   Jefferson  Census Tract 9, Jefferson County, Kentucky   \n",
       "\n",
       "   AREA_SQMI  E_TOTPOP  M_TOTPOP  E_MUNIT  M_MUNIT  EP_MUNIT  MP_MUNIT  ...  \\\n",
       "0   1.135250    2792.0     386.0     11.0     19.4       0.8       1.5  ...   \n",
       "1   1.108256    5113.0     435.0    153.0     53.3       7.1       2.5  ...   \n",
       "2   0.457008    1640.0     251.0    110.0     51.4      11.8       5.5  ...   \n",
       "3   0.351949    2882.0     385.0    116.0     68.0       8.4       4.9  ...   \n",
       "4   0.247888    2057.0     262.0     47.0     27.3       4.6       2.7  ...   \n",
       "\n",
       "   F_NOVEH  E_GROUPQ  M_GROUPQ  EP_GROUPQ  MP_GROUPQ  EPL_GROUPQ  F_GROUPQ  \\\n",
       "0      1.0     235.0      82.0        8.4        2.7      0.9282       1.0   \n",
       "1      1.0       5.0       9.0        0.1        0.2      0.4982       0.0   \n",
       "2      1.0       9.0       5.0        0.5        0.3      0.5996       0.0   \n",
       "3      1.0       2.0       4.0        0.1        0.1      0.4785       0.0   \n",
       "4      1.0       0.0      11.0        0.0        0.5      0.0000       0.0   \n",
       "\n",
       "   F_THEME4  SPL_THEME4  RPL_THEME4  \n",
       "0       2.0      2.6463      0.6320  \n",
       "1       1.0      2.8582      0.7181  \n",
       "2       2.0      3.3689      0.8914  \n",
       "3       1.0      3.0171      0.7711  \n",
       "4       1.0      2.3187      0.4776  \n",
       "\n",
       "[5 rows x 39 columns]"
      ]
     },
     "execution_count": 50,
     "metadata": {},
     "output_type": "execute_result"
    }
   ],
   "source": [
    "transp_htype2014_df = jeff2014_df.loc[ : , ('FIPS', 'COUNTY', 'LOCATION', 'AREA_SQMI', 'E_TOTPOP', 'M_TOTPOP', 'E_MUNIT', 'M_MUNIT', 'EP_MUNIT', 'MP_MUNIT', 'EPL_MUNIT', 'F_MUNIT', 'E_MOBILE', 'M_MOBILE', 'EP_MOBILE', 'MP_MOBILE', 'EPL_MOBILE', 'F_MOBILE', 'E_CROWD', 'M_CROWD', 'EP_CROWD', 'MP_CROWD', 'EPL_CROWD', 'F_CROWD', 'E_NOVEH', 'M_NOVEH', 'EP_NOVEH', 'MP_NOVEH', 'EPL_NOVEH', 'F_NOVEH', 'E_GROUPQ', 'M_GROUPQ', 'EP_GROUPQ', 'MP_GROUPQ', 'EPL_GROUPQ', 'F_GROUPQ', 'F_THEME4', 'SPL_THEME4', 'RPL_THEME4')]\n",
    "transp_htype2014_df.index = range(len(transp_htype2014_df.index))\n",
    "transp_htype2014_df.head()"
   ]
  },
  {
   "cell_type": "code",
   "execution_count": 51,
   "metadata": {},
   "outputs": [
    {
     "data": {
      "text/plain": [
       "AREA_SQMI       380.430993\n",
       "E_TOTPOP     751485.000000\n",
       "M_TOTPOP      67018.000000\n",
       "dtype: float64"
      ]
     },
     "execution_count": 51,
     "metadata": {},
     "output_type": "execute_result"
    }
   ],
   "source": [
    "transp_htype2014_df.loc[ : , ('AREA_SQMI', 'E_TOTPOP', 'M_TOTPOP')].sum()"
   ]
  },
  {
   "cell_type": "code",
   "execution_count": 52,
   "metadata": {},
   "outputs": [
    {
     "data": {
      "text/plain": [
       "E_MUNIT     223.979058\n",
       "M_MUNIT      78.244503\n",
       "E_MOBILE     25.502618\n",
       "M_MOBILE     21.837696\n",
       "E_CROWD      24.157068\n",
       "M_CROWD      30.041885\n",
       "E_NOVEH     161.680628\n",
       "M_NOVEH      66.539267\n",
       "E_GROUPQ     80.214660\n",
       "M_GROUPQ     48.439791\n",
       "dtype: float64"
      ]
     },
     "execution_count": 52,
     "metadata": {},
     "output_type": "execute_result"
    }
   ],
   "source": [
    "transp_htype2014_df.loc[ : , ('E_MUNIT', 'M_MUNIT', 'E_MOBILE', 'M_MOBILE', 'E_CROWD', 'M_CROWD', 'E_NOVEH', 'M_NOVEH', 'E_GROUPQ', 'M_GROUPQ')].mean()"
   ]
  },
  {
   "cell_type": "code",
   "execution_count": 53,
   "metadata": {},
   "outputs": [
    {
     "data": {
      "text/html": [
       "<div>\n",
       "<style scoped>\n",
       "    .dataframe tbody tr th:only-of-type {\n",
       "        vertical-align: middle;\n",
       "    }\n",
       "\n",
       "    .dataframe tbody tr th {\n",
       "        vertical-align: top;\n",
       "    }\n",
       "\n",
       "    .dataframe thead th {\n",
       "        text-align: right;\n",
       "    }\n",
       "</style>\n",
       "<table border=\"1\" class=\"dataframe\">\n",
       "  <thead>\n",
       "    <tr style=\"text-align: right;\">\n",
       "      <th></th>\n",
       "      <th>FIPS</th>\n",
       "      <th>COUNTY</th>\n",
       "      <th>LOCATION</th>\n",
       "      <th>AREA_SQMI</th>\n",
       "      <th>E_TOTPOP</th>\n",
       "      <th>M_TOTPOP</th>\n",
       "      <th>E_MUNIT</th>\n",
       "      <th>M_MUNIT</th>\n",
       "      <th>EP_MUNIT</th>\n",
       "      <th>MP_MUNIT</th>\n",
       "      <th>...</th>\n",
       "      <th>M_GROUPQ</th>\n",
       "      <th>EP_GROUPQ</th>\n",
       "      <th>MP_GROUPQ</th>\n",
       "      <th>EPL_GROUPQ</th>\n",
       "      <th>F_GROUPQ</th>\n",
       "      <th>F_THEME4</th>\n",
       "      <th>SPL_THEME4</th>\n",
       "      <th>RPL_THEME4</th>\n",
       "      <th>SPL_THEMES</th>\n",
       "      <th>RPL_THEMES</th>\n",
       "    </tr>\n",
       "  </thead>\n",
       "  <tbody>\n",
       "    <tr>\n",
       "      <th>0</th>\n",
       "      <td>21111980100</td>\n",
       "      <td>Jefferson</td>\n",
       "      <td>Census Tract 9801, Jefferson County, Kentucky</td>\n",
       "      <td>6.694971</td>\n",
       "      <td>0.0</td>\n",
       "      <td>11.0</td>\n",
       "      <td>0.0</td>\n",
       "      <td>15.6</td>\n",
       "      <td>0.0</td>\n",
       "      <td>NaN</td>\n",
       "      <td>...</td>\n",
       "      <td>11.0</td>\n",
       "      <td>0.0</td>\n",
       "      <td>NaN</td>\n",
       "      <td>NaN</td>\n",
       "      <td>NaN</td>\n",
       "      <td>NaN</td>\n",
       "      <td>NaN</td>\n",
       "      <td>NaN</td>\n",
       "      <td>NaN</td>\n",
       "      <td>NaN</td>\n",
       "    </tr>\n",
       "    <tr>\n",
       "      <th>1</th>\n",
       "      <td>21111000300</td>\n",
       "      <td>Jefferson</td>\n",
       "      <td>Census Tract 3, Jefferson County, Kentucky</td>\n",
       "      <td>0.649123</td>\n",
       "      <td>2371.0</td>\n",
       "      <td>451.0</td>\n",
       "      <td>19.0</td>\n",
       "      <td>24.6</td>\n",
       "      <td>1.6</td>\n",
       "      <td>2.1</td>\n",
       "      <td>...</td>\n",
       "      <td>11.0</td>\n",
       "      <td>0.0</td>\n",
       "      <td>0.5</td>\n",
       "      <td>0.0000</td>\n",
       "      <td>0.0</td>\n",
       "      <td>2.0</td>\n",
       "      <td>2.6787</td>\n",
       "      <td>0.6766</td>\n",
       "      <td>10.3190</td>\n",
       "      <td>0.9411</td>\n",
       "    </tr>\n",
       "    <tr>\n",
       "      <th>2</th>\n",
       "      <td>21111000400</td>\n",
       "      <td>Jefferson</td>\n",
       "      <td>Census Tract 4, Jefferson County, Kentucky</td>\n",
       "      <td>1.108256</td>\n",
       "      <td>5160.0</td>\n",
       "      <td>557.0</td>\n",
       "      <td>133.0</td>\n",
       "      <td>57.3</td>\n",
       "      <td>6.2</td>\n",
       "      <td>2.7</td>\n",
       "      <td>...</td>\n",
       "      <td>16.0</td>\n",
       "      <td>0.0</td>\n",
       "      <td>0.3</td>\n",
       "      <td>0.0000</td>\n",
       "      <td>0.0</td>\n",
       "      <td>1.0</td>\n",
       "      <td>2.7351</td>\n",
       "      <td>0.6938</td>\n",
       "      <td>9.9929</td>\n",
       "      <td>0.9148</td>\n",
       "    </tr>\n",
       "    <tr>\n",
       "      <th>3</th>\n",
       "      <td>21111000600</td>\n",
       "      <td>Jefferson</td>\n",
       "      <td>Census Tract 6, Jefferson County, Kentucky</td>\n",
       "      <td>0.457008</td>\n",
       "      <td>1771.0</td>\n",
       "      <td>219.0</td>\n",
       "      <td>98.0</td>\n",
       "      <td>33.6</td>\n",
       "      <td>10.6</td>\n",
       "      <td>3.6</td>\n",
       "      <td>...</td>\n",
       "      <td>5.0</td>\n",
       "      <td>0.6</td>\n",
       "      <td>0.3</td>\n",
       "      <td>0.6146</td>\n",
       "      <td>0.0</td>\n",
       "      <td>2.0</td>\n",
       "      <td>3.3826</td>\n",
       "      <td>0.8967</td>\n",
       "      <td>11.4808</td>\n",
       "      <td>0.9873</td>\n",
       "    </tr>\n",
       "    <tr>\n",
       "      <th>4</th>\n",
       "      <td>21111000700</td>\n",
       "      <td>Jefferson</td>\n",
       "      <td>Census Tract 7, Jefferson County, Kentucky</td>\n",
       "      <td>0.351949</td>\n",
       "      <td>2685.0</td>\n",
       "      <td>355.0</td>\n",
       "      <td>122.0</td>\n",
       "      <td>70.0</td>\n",
       "      <td>8.9</td>\n",
       "      <td>5.1</td>\n",
       "      <td>...</td>\n",
       "      <td>11.0</td>\n",
       "      <td>0.0</td>\n",
       "      <td>0.4</td>\n",
       "      <td>0.0000</td>\n",
       "      <td>0.0</td>\n",
       "      <td>1.0</td>\n",
       "      <td>2.3573</td>\n",
       "      <td>0.5326</td>\n",
       "      <td>9.3210</td>\n",
       "      <td>0.8386</td>\n",
       "    </tr>\n",
       "  </tbody>\n",
       "</table>\n",
       "<p>5 rows × 41 columns</p>\n",
       "</div>"
      ],
      "text/plain": [
       "          FIPS     COUNTY                                       LOCATION  \\\n",
       "0  21111980100  Jefferson  Census Tract 9801, Jefferson County, Kentucky   \n",
       "1  21111000300  Jefferson     Census Tract 3, Jefferson County, Kentucky   \n",
       "2  21111000400  Jefferson     Census Tract 4, Jefferson County, Kentucky   \n",
       "3  21111000600  Jefferson     Census Tract 6, Jefferson County, Kentucky   \n",
       "4  21111000700  Jefferson     Census Tract 7, Jefferson County, Kentucky   \n",
       "\n",
       "   AREA_SQMI  E_TOTPOP  M_TOTPOP  E_MUNIT  M_MUNIT  EP_MUNIT  MP_MUNIT  ...  \\\n",
       "0   6.694971       0.0      11.0      0.0     15.6       0.0       NaN  ...   \n",
       "1   0.649123    2371.0     451.0     19.0     24.6       1.6       2.1  ...   \n",
       "2   1.108256    5160.0     557.0    133.0     57.3       6.2       2.7  ...   \n",
       "3   0.457008    1771.0     219.0     98.0     33.6      10.6       3.6  ...   \n",
       "4   0.351949    2685.0     355.0    122.0     70.0       8.9       5.1  ...   \n",
       "\n",
       "   M_GROUPQ  EP_GROUPQ  MP_GROUPQ  EPL_GROUPQ  F_GROUPQ  F_THEME4  SPL_THEME4  \\\n",
       "0      11.0        0.0        NaN         NaN       NaN       NaN         NaN   \n",
       "1      11.0        0.0        0.5      0.0000       0.0       2.0      2.6787   \n",
       "2      16.0        0.0        0.3      0.0000       0.0       1.0      2.7351   \n",
       "3       5.0        0.6        0.3      0.6146       0.0       2.0      3.3826   \n",
       "4      11.0        0.0        0.4      0.0000       0.0       1.0      2.3573   \n",
       "\n",
       "   RPL_THEME4  SPL_THEMES  RPL_THEMES  \n",
       "0         NaN         NaN         NaN  \n",
       "1      0.6766     10.3190      0.9411  \n",
       "2      0.6938      9.9929      0.9148  \n",
       "3      0.8967     11.4808      0.9873  \n",
       "4      0.5326      9.3210      0.8386  \n",
       "\n",
       "[5 rows x 41 columns]"
      ]
     },
     "execution_count": 53,
     "metadata": {},
     "output_type": "execute_result"
    }
   ],
   "source": [
    "transp_htype2016_df = jeff2016_df.loc[ : , ('FIPS', 'COUNTY', 'LOCATION', 'AREA_SQMI', 'E_TOTPOP', 'M_TOTPOP', 'E_MUNIT', 'M_MUNIT', 'EP_MUNIT', 'MP_MUNIT', 'EPL_MUNIT', 'F_MUNIT', 'E_MOBILE', 'M_MOBILE', 'EP_MOBILE', 'MP_MOBILE', 'EPL_MOBILE', 'F_MOBILE', 'E_CROWD', 'M_CROWD', 'EP_CROWD', 'MP_CROWD', 'EPL_CROWD', 'F_CROWD', 'E_NOVEH', 'M_NOVEH', 'EP_NOVEH', 'MP_NOVEH', 'EPL_NOVEH', 'F_NOVEH', 'E_GROUPQ', 'M_GROUPQ', 'EP_GROUPQ', 'MP_GROUPQ', 'EPL_GROUPQ', 'F_GROUPQ', 'F_THEME4', 'SPL_THEME4', 'RPL_THEME4', 'SPL_THEMES', 'RPL_THEMES')]\n",
    "transp_htype2016_df.index = range(len(transp_htype2016_df.index))\n",
    "transp_htype2016_df.head()"
   ]
  },
  {
   "cell_type": "code",
   "execution_count": 54,
   "metadata": {},
   "outputs": [
    {
     "data": {
      "text/plain": [
       "AREA_SQMI       380.475579\n",
       "E_TOTPOP     759724.000000\n",
       "M_TOTPOP      66396.000000\n",
       "dtype: float64"
      ]
     },
     "execution_count": 54,
     "metadata": {},
     "output_type": "execute_result"
    }
   ],
   "source": [
    "transp_htype2016_df.loc[ : , ('AREA_SQMI', 'E_TOTPOP', 'M_TOTPOP')].sum()"
   ]
  },
  {
   "cell_type": "code",
   "execution_count": 55,
   "metadata": {},
   "outputs": [
    {
     "data": {
      "text/plain": [
       "E_MUNIT     223.434555\n",
       "M_MUNIT      76.773822\n",
       "E_MOBILE     24.654450\n",
       "M_MOBILE     20.403141\n",
       "E_CROWD      28.434555\n",
       "M_CROWD      33.808377\n",
       "E_NOVEH     162.392670\n",
       "M_NOVEH      64.780105\n",
       "E_GROUPQ     82.010471\n",
       "M_GROUPQ     42.994764\n",
       "dtype: float64"
      ]
     },
     "execution_count": 55,
     "metadata": {},
     "output_type": "execute_result"
    }
   ],
   "source": [
    "transp_htype2016_df.loc[ : , ('E_MUNIT', 'M_MUNIT', 'E_MOBILE', 'M_MOBILE', 'E_CROWD', 'M_CROWD', 'E_NOVEH', 'M_NOVEH', 'E_GROUPQ', 'M_GROUPQ')].mean()"
   ]
  },
  {
   "cell_type": "code",
   "execution_count": 56,
   "metadata": {},
   "outputs": [
    {
     "data": {
      "text/html": [
       "<div>\n",
       "<style scoped>\n",
       "    .dataframe tbody tr th:only-of-type {\n",
       "        vertical-align: middle;\n",
       "    }\n",
       "\n",
       "    .dataframe tbody tr th {\n",
       "        vertical-align: top;\n",
       "    }\n",
       "\n",
       "    .dataframe thead th {\n",
       "        text-align: right;\n",
       "    }\n",
       "</style>\n",
       "<table border=\"1\" class=\"dataframe\">\n",
       "  <thead>\n",
       "    <tr style=\"text-align: right;\">\n",
       "      <th></th>\n",
       "      <th>FIPS</th>\n",
       "      <th>COUNTY</th>\n",
       "      <th>LOCATION</th>\n",
       "      <th>AREA_SQMI</th>\n",
       "      <th>E_TOTPOP</th>\n",
       "      <th>M_TOTPOP</th>\n",
       "      <th>E_MUNIT</th>\n",
       "      <th>M_MUNIT</th>\n",
       "      <th>EP_MUNIT</th>\n",
       "      <th>MP_MUNIT</th>\n",
       "      <th>...</th>\n",
       "      <th>M_GROUPQ</th>\n",
       "      <th>EP_GROUPQ</th>\n",
       "      <th>MP_GROUPQ</th>\n",
       "      <th>EPL_GROUPQ</th>\n",
       "      <th>F_GROUPQ</th>\n",
       "      <th>F_THEME4</th>\n",
       "      <th>SPL_THEME4</th>\n",
       "      <th>RPL_THEME4</th>\n",
       "      <th>SPL_THEMES</th>\n",
       "      <th>RPL_THEMES</th>\n",
       "    </tr>\n",
       "  </thead>\n",
       "  <tbody>\n",
       "    <tr>\n",
       "      <th>0</th>\n",
       "      <td>21111980100</td>\n",
       "      <td>Jefferson</td>\n",
       "      <td>Census Tract 9801, Jefferson County, Kentucky</td>\n",
       "      <td>6.831377</td>\n",
       "      <td>0</td>\n",
       "      <td>11</td>\n",
       "      <td>0</td>\n",
       "      <td>15</td>\n",
       "      <td>0.0</td>\n",
       "      <td>NaN</td>\n",
       "      <td>...</td>\n",
       "      <td>11</td>\n",
       "      <td>0.0</td>\n",
       "      <td>NaN</td>\n",
       "      <td>NaN</td>\n",
       "      <td>NaN</td>\n",
       "      <td>NaN</td>\n",
       "      <td>NaN</td>\n",
       "      <td>NaN</td>\n",
       "      <td>NaN</td>\n",
       "      <td>NaN</td>\n",
       "    </tr>\n",
       "    <tr>\n",
       "      <th>1</th>\n",
       "      <td>21111008500</td>\n",
       "      <td>Jefferson</td>\n",
       "      <td>Census Tract 85, Jefferson County, Kentucky</td>\n",
       "      <td>0.288635</td>\n",
       "      <td>2063</td>\n",
       "      <td>141</td>\n",
       "      <td>92</td>\n",
       "      <td>41</td>\n",
       "      <td>8.3</td>\n",
       "      <td>3.7</td>\n",
       "      <td>...</td>\n",
       "      <td>11</td>\n",
       "      <td>0.0</td>\n",
       "      <td>0.5</td>\n",
       "      <td>0.0</td>\n",
       "      <td>0.0</td>\n",
       "      <td>0.0</td>\n",
       "      <td>1.2472</td>\n",
       "      <td>0.1123</td>\n",
       "      <td>2.2720</td>\n",
       "      <td>0.0027</td>\n",
       "    </tr>\n",
       "    <tr>\n",
       "      <th>2</th>\n",
       "      <td>21111011604</td>\n",
       "      <td>Jefferson</td>\n",
       "      <td>Census Tract 116.04, Jefferson County, Kentucky</td>\n",
       "      <td>28.807749</td>\n",
       "      <td>2434</td>\n",
       "      <td>121</td>\n",
       "      <td>0</td>\n",
       "      <td>15</td>\n",
       "      <td>0.0</td>\n",
       "      <td>1.5</td>\n",
       "      <td>...</td>\n",
       "      <td>11</td>\n",
       "      <td>0.0</td>\n",
       "      <td>0.5</td>\n",
       "      <td>0.0</td>\n",
       "      <td>0.0</td>\n",
       "      <td>0.0</td>\n",
       "      <td>0.5933</td>\n",
       "      <td>0.0226</td>\n",
       "      <td>2.4760</td>\n",
       "      <td>0.0045</td>\n",
       "    </tr>\n",
       "    <tr>\n",
       "      <th>3</th>\n",
       "      <td>21111013100</td>\n",
       "      <td>Jefferson</td>\n",
       "      <td>Census Tract 131, Jefferson County, Kentucky</td>\n",
       "      <td>0.389240</td>\n",
       "      <td>2114</td>\n",
       "      <td>92</td>\n",
       "      <td>0</td>\n",
       "      <td>15</td>\n",
       "      <td>0.0</td>\n",
       "      <td>1.7</td>\n",
       "      <td>...</td>\n",
       "      <td>11</td>\n",
       "      <td>0.0</td>\n",
       "      <td>0.5</td>\n",
       "      <td>0.0</td>\n",
       "      <td>0.0</td>\n",
       "      <td>0.0</td>\n",
       "      <td>0.3678</td>\n",
       "      <td>0.0118</td>\n",
       "      <td>2.6407</td>\n",
       "      <td>0.0091</td>\n",
       "    </tr>\n",
       "    <tr>\n",
       "      <th>4</th>\n",
       "      <td>21111010317</td>\n",
       "      <td>Jefferson</td>\n",
       "      <td>Census Tract 103.17, Jefferson County, Kentucky</td>\n",
       "      <td>2.445160</td>\n",
       "      <td>4685</td>\n",
       "      <td>191</td>\n",
       "      <td>0</td>\n",
       "      <td>15</td>\n",
       "      <td>0.0</td>\n",
       "      <td>0.9</td>\n",
       "      <td>...</td>\n",
       "      <td>11</td>\n",
       "      <td>0.0</td>\n",
       "      <td>0.2</td>\n",
       "      <td>0.0</td>\n",
       "      <td>0.0</td>\n",
       "      <td>0.0</td>\n",
       "      <td>0.0688</td>\n",
       "      <td>0.0018</td>\n",
       "      <td>2.9959</td>\n",
       "      <td>0.0136</td>\n",
       "    </tr>\n",
       "  </tbody>\n",
       "</table>\n",
       "<p>5 rows × 41 columns</p>\n",
       "</div>"
      ],
      "text/plain": [
       "          FIPS     COUNTY                                         LOCATION  \\\n",
       "0  21111980100  Jefferson    Census Tract 9801, Jefferson County, Kentucky   \n",
       "1  21111008500  Jefferson      Census Tract 85, Jefferson County, Kentucky   \n",
       "2  21111011604  Jefferson  Census Tract 116.04, Jefferson County, Kentucky   \n",
       "3  21111013100  Jefferson     Census Tract 131, Jefferson County, Kentucky   \n",
       "4  21111010317  Jefferson  Census Tract 103.17, Jefferson County, Kentucky   \n",
       "\n",
       "   AREA_SQMI  E_TOTPOP  M_TOTPOP  E_MUNIT  M_MUNIT  EP_MUNIT  MP_MUNIT  ...  \\\n",
       "0   6.831377         0        11        0       15       0.0       NaN  ...   \n",
       "1   0.288635      2063       141       92       41       8.3       3.7  ...   \n",
       "2  28.807749      2434       121        0       15       0.0       1.5  ...   \n",
       "3   0.389240      2114        92        0       15       0.0       1.7  ...   \n",
       "4   2.445160      4685       191        0       15       0.0       0.9  ...   \n",
       "\n",
       "   M_GROUPQ  EP_GROUPQ  MP_GROUPQ  EPL_GROUPQ  F_GROUPQ  F_THEME4  SPL_THEME4  \\\n",
       "0        11        0.0        NaN         NaN       NaN       NaN         NaN   \n",
       "1        11        0.0        0.5         0.0       0.0       0.0      1.2472   \n",
       "2        11        0.0        0.5         0.0       0.0       0.0      0.5933   \n",
       "3        11        0.0        0.5         0.0       0.0       0.0      0.3678   \n",
       "4        11        0.0        0.2         0.0       0.0       0.0      0.0688   \n",
       "\n",
       "   RPL_THEME4  SPL_THEMES  RPL_THEMES  \n",
       "0         NaN         NaN         NaN  \n",
       "1      0.1123      2.2720      0.0027  \n",
       "2      0.0226      2.4760      0.0045  \n",
       "3      0.0118      2.6407      0.0091  \n",
       "4      0.0018      2.9959      0.0136  \n",
       "\n",
       "[5 rows x 41 columns]"
      ]
     },
     "execution_count": 56,
     "metadata": {},
     "output_type": "execute_result"
    }
   ],
   "source": [
    "transp_htype2018_df = jeff2018_df.loc[ : , ('FIPS', 'COUNTY', 'LOCATION', 'AREA_SQMI', 'E_TOTPOP', 'M_TOTPOP', 'E_MUNIT', 'M_MUNIT', 'EP_MUNIT', 'MP_MUNIT', 'EPL_MUNIT', 'F_MUNIT', 'E_MOBILE', 'M_MOBILE', 'EP_MOBILE', 'MP_MOBILE', 'EPL_MOBILE', 'F_MOBILE', 'E_CROWD', 'M_CROWD', 'EP_CROWD', 'MP_CROWD', 'EPL_CROWD', 'F_CROWD', 'E_NOVEH', 'M_NOVEH', 'EP_NOVEH', 'MP_NOVEH', 'EPL_NOVEH', 'F_NOVEH', 'E_GROUPQ', 'M_GROUPQ', 'EP_GROUPQ', 'MP_GROUPQ', 'EPL_GROUPQ', 'F_GROUPQ', 'F_THEME4', 'SPL_THEME4', 'RPL_THEME4', 'SPL_THEMES', 'RPL_THEMES')]\n",
    "transp_htype2018_df.index = range(len(transp_htype2018_df.index))\n",
    "transp_htype2018_df.head()"
   ]
  },
  {
   "cell_type": "code",
   "execution_count": 57,
   "metadata": {},
   "outputs": [
    {
     "data": {
      "text/plain": [
       "AREA_SQMI       380.68523\n",
       "E_TOTPOP     767154.00000\n",
       "M_TOTPOP      69912.00000\n",
       "dtype: float64"
      ]
     },
     "execution_count": 57,
     "metadata": {},
     "output_type": "execute_result"
    }
   ],
   "source": [
    "transp_htype2018_df.loc[ : , ('AREA_SQMI', 'E_TOTPOP', 'M_TOTPOP')].sum()"
   ]
  },
  {
   "cell_type": "code",
   "execution_count": 58,
   "metadata": {},
   "outputs": [
    {
     "data": {
      "text/plain": [
       "E_MUNIT     224.329843\n",
       "M_MUNIT      78.497382\n",
       "E_MOBILE     24.361257\n",
       "M_MOBILE     22.476440\n",
       "E_CROWD      31.926702\n",
       "M_CROWD      36.020942\n",
       "E_NOVEH     156.335079\n",
       "M_NOVEH      66.413613\n",
       "E_GROUPQ     84.801047\n",
       "M_GROUPQ     48.874346\n",
       "dtype: float64"
      ]
     },
     "execution_count": 58,
     "metadata": {},
     "output_type": "execute_result"
    }
   ],
   "source": [
    "transp_htype2018_df.loc[ : , ('E_MUNIT', 'M_MUNIT', 'E_MOBILE', 'M_MOBILE', 'E_CROWD', 'M_CROWD', 'E_NOVEH', 'M_NOVEH', 'E_GROUPQ', 'M_GROUPQ')].mean()"
   ]
  },
  {
   "cell_type": "code",
   "execution_count": 59,
   "metadata": {},
   "outputs": [
    {
     "data": {
      "image/png": "[encoded data removed]",
      "text/plain": [
       "<Figure size 1152x1152 with 4 Axes>"
      ]
     },
     "metadata": {
      "needs_background": "light"
     },
     "output_type": "display_data"
    }
   ],
   "source": [
    "#code to graph the five factoctor estimates for theme 4 (Housing Type & Transportation) to visualize the estimate numbers for 2014, 2016, and 2018 \n",
    "#note group quarters visual appears below the four graphs\n",
    "#no vehicle and mobile homes show decline and the other factors increased around the three years graphed\n",
    "\n",
    "year_data = np.array([2014, 2016, 2018])\n",
    "\n",
    "multiunit_data = np.array([transp_htype2014_df['E_MUNIT'].mean(),transp_htype2016_df['E_MUNIT'].mean(),transp_htype2018_df['E_MUNIT'].mean()])\n",
    "mobilehome_data = np.array([transp_htype2014_df['E_MOBILE'].mean(),transp_htype2016_df['E_MOBILE'].mean(),transp_htype2018_df['E_MOBILE'].mean()])\n",
    "crowdrooms_data = np.array([transp_htype2014_df['E_CROWD'].mean(),transp_htype2016_df['E_CROWD'].mean(),transp_htype2018_df['E_CROWD'].mean()])\n",
    "novehicle_data = np.array([transp_htype2014_df['E_NOVEH'].mean(),transp_htype2016_df['E_NOVEH'].mean(),transp_htype2018_df['E_NOVEH'].mean()])\n",
    "\n",
    "fig,transp_htype = plt.subplots(2,2, figsize = (16,16))\n",
    "transp_htype[0][0].plot(year_data, multiunit_data, 'bo', lw = 2., ls = '-.')\n",
    "transp_htype[0][0].set_xlabel('Years')\n",
    "transp_htype[0][0].grid(True)\n",
    "transp_htype[0][0].set_title('Housing structure 10+ units')\n",
    "transp_htype[0][1].plot(year_data, mobilehome_data, 'ro', lw = 2., ls = '-.')\n",
    "transp_htype[0][1].grid(True)\n",
    "transp_htype[0][1].set_title('Mobile homes')\n",
    "transp_htype[0][1].set_xlabel('Years')\n",
    "transp_htype[1][0].plot(year_data, crowdrooms_data, 'go', lw = 2., ls = '-.')\n",
    "transp_htype[1][0].grid(True)\n",
    "transp_htype[1][0].set_title('Housing with more people than rooms')\n",
    "transp_htype[1][0].set_xlabel('Years')\n",
    "transp_htype[1][1].plot(year_data, novehicle_data, 'yo', lw = 2., ls = '-.')\n",
    "transp_htype[1][1].grid(True)\n",
    "transp_htype[1][1].set_title('No vehicle available')\n",
    "transp_htype[1][1].set_xlabel('Years')\n",
    "plt.show()"
   ]
  },
  {
   "cell_type": "code",
   "execution_count": 60,
   "metadata": {},
   "outputs": [
    {
     "data": {
      "image/png": "[encoded data removed]",
      "text/plain": [
       "<Figure size 576x576 with 1 Axes>"
      ]
     },
     "metadata": {
      "needs_background": "light"
     },
     "output_type": "display_data"
    }
   ],
   "source": [
    "year_data = np.array([2014, 2016, 2018])\n",
    "groupqtrs_data = np.array([transp_htype2014_df['E_GROUPQ'].mean(),transp_htype2016_df['E_GROUPQ'].mean(),transp_htype2018_df['E_GROUPQ'].mean()])\n",
    "\n",
    "plt.figure(figsize = (8,8))\n",
    "plt.plot(year_data, groupqtrs_data, 'bo', lw = 2., ls = '-.')\n",
    "plt.xlabel('Years')\n",
    "plt.title('Persons institutionalized in group quarters')\n",
    "plt.grid(True)"
   ]
  },
  {
   "cell_type": "markdown",
   "metadata": {},
   "source": [
    "## V. Model"
   ]
  },
  {
   "cell_type": "code",
   "execution_count": 61,
   "metadata": {},
   "outputs": [],
   "source": [
    "import seaborn as sn\n",
    "from sklearn.model_selection import train_test_split\n",
    "from sklearn.neighbors import KNeighborsRegressor"
   ]
  },
  {
   "cell_type": "code",
   "execution_count": 62,
   "metadata": {},
   "outputs": [],
   "source": [
    "#soc_econ2014_df = jeff2014_df.loc[ : , ('FIPS', 'COUNTY', 'LOCATION', 'AREA_SQMI', 'E_TOTPOP', 'M_TOTPOP', 'E_POV', 'M_POV', 'EP_POV', 'MP_POV', 'EPL_POV', 'F_POV', 'E_UNEMP', 'M_UNEMP', 'EP_UNEMP', 'MP_UNEMP', 'EPL_UNEMP', 'F_UNEMP', 'E_PCI', 'M_PCI', 'EP_PCI', 'MP_PCI', 'EPL_PCI', 'F_PCI', 'E_NOHSDP', 'M_NOHSDP', 'EP_NOHSDP', 'MP_NOHSDP', 'EPL_NOHSDP', 'F_NOHSDP', 'F_THEME1', 'SPL_THEME1', 'RPL_THEME1')]\n",
    "#soc_econ2014_df.index = range(len(soc_econ2014_df.index))\n",
    "#soc_econ2014_df.head()"
   ]
  },
  {
   "cell_type": "code",
   "execution_count": 123,
   "metadata": {},
   "outputs": [],
   "source": [
    "pd.set_option('display.max_columns', 200)\n",
    "pd.set_option('display.max_rows', 200)\n",
    "pd.set_option('display.min_rows', 10)"
   ]
  },
  {
   "cell_type": "code",
   "execution_count": 139,
   "metadata": {},
   "outputs": [],
   "source": [
    "X = soc_econ2014_df [['E_POV', 'E_UNEMP', 'E_PCI', 'E_NOHSDP']]\n",
    "#soc_econ2014_df[['E_POV', 'E_UNEMP', 'E_PCI', 'E_NOHSDP']]\n"
   ]
  },
  {
   "cell_type": "code",
   "execution_count": 140,
   "metadata": {},
   "outputs": [],
   "source": [
    "X = soc_econ2014_df [['E_POV', 'E_UNEMP', 'E_PCI', 'E_NOHSDP']]\n",
    "y = soc_econ2014_df ['RPL_THEME1']\n",
    "X_train, X_test, y_train, y_test = train_test_split(X,y, random_state = 0)"
   ]
  },
  {
   "cell_type": "code",
   "execution_count": 141,
   "metadata": {},
   "outputs": [
    {
     "data": {
      "image/png": "[encoded data removed]",
      "text/plain": [
       "<Figure size 864x864 with 16 Axes>"
      ]
     },
     "metadata": {
      "needs_background": "light"
     },
     "output_type": "display_data"
    }
   ],
   "source": [
    "from matplotlib import cm\n",
    "from pandas.plotting import scatter_matrix\n",
    "cmap = cm.get_cmap('gnuplot')\n",
    "scatter = scatter_matrix(X_train, c = y_train, marker ='o', s = 40, hist_kwds = {'bins':15}, figsize = (12, 12), cmap = cmap)"
   ]
  },
  {
   "cell_type": "code",
   "execution_count": 142,
   "metadata": {},
   "outputs": [
    {
     "data": {
      "text/plain": [
       "KNeighborsRegressor()"
      ]
     },
     "execution_count": 142,
     "metadata": {},
     "output_type": "execute_result"
    }
   ],
   "source": [
    "knn = KNeighborsRegressor(n_neighbors = 5)\n",
    "knn.fit(X_train, y_train)"
   ]
  },
  {
   "cell_type": "code",
   "execution_count": 143,
   "metadata": {},
   "outputs": [],
   "source": [
    "import pandas as pd"
   ]
  },
  {
   "cell_type": "code",
   "execution_count": 144,
   "metadata": {},
   "outputs": [],
   "source": [
    "#soc_econ2014_df[np.isnan(soc_econ2014_df)] = 0"
   ]
  },
  {
   "cell_type": "code",
   "execution_count": 145,
   "metadata": {},
   "outputs": [],
   "source": [
    "\n",
    "#pd.isnull(np.array([np.nan,0],dtype=object))"
   ]
  },
  {
   "cell_type": "code",
   "execution_count": 146,
   "metadata": {},
   "outputs": [],
   "source": [
    "#pd.isnull(np.array([np.nan,0],dtype=float))"
   ]
  },
  {
   "cell_type": "code",
   "execution_count": 147,
   "metadata": {},
   "outputs": [],
   "source": [
    "#np.isnan(np.array([np.NaN,0],dtype=np.float64))"
   ]
  },
  {
   "cell_type": "code",
   "execution_count": 148,
   "metadata": {},
   "outputs": [],
   "source": [
    "#soc_econ2014_df = soc_econ2014_df.replace(np.NaN, 0)"
   ]
  },
  {
   "cell_type": "code",
   "execution_count": 149,
   "metadata": {},
   "outputs": [
    {
     "data": {
      "text/plain": [
       "0.7257867897811703"
      ]
     },
     "execution_count": 149,
     "metadata": {},
     "output_type": "execute_result"
    }
   ],
   "source": [
    "knn.score(X_test, y_test)"
   ]
  },
  {
   "cell_type": "code",
   "execution_count": 150,
   "metadata": {},
   "outputs": [],
   "source": [
    "X = soc_econ2014_df [['E_UNEMP', 'E_PCI', 'E_NOHSDP']]\n",
    "y = soc_econ2014_df ['E_POV']\n",
    "X_train, X_test, y_train, y_test = train_test_split(X,y, random_state = 0)"
   ]
  },
  {
   "cell_type": "code",
   "execution_count": 151,
   "metadata": {},
   "outputs": [
    {
     "data": {
      "image/png": "[encoded data removed]",
      "text/plain": [
       "<Figure size 864x864 with 9 Axes>"
      ]
     },
     "metadata": {
      "needs_background": "light"
     },
     "output_type": "display_data"
    }
   ],
   "source": [
    "from matplotlib import cm\n",
    "from pandas.plotting import scatter_matrix\n",
    "cmap = cm.get_cmap('gnuplot')\n",
    "scatter = scatter_matrix(X_train, c = y_train, marker ='o', s = 40, hist_kwds = {'bins':15}, figsize = (12, 12), cmap = cmap)"
   ]
  },
  {
   "cell_type": "code",
   "execution_count": 152,
   "metadata": {},
   "outputs": [
    {
     "data": {
      "text/plain": [
       "KNeighborsRegressor()"
      ]
     },
     "execution_count": 152,
     "metadata": {},
     "output_type": "execute_result"
    }
   ],
   "source": [
    "knn = KNeighborsRegressor(n_neighbors = 5)\n",
    "knn.fit(X_train, y_train)"
   ]
  },
  {
   "cell_type": "code",
   "execution_count": 153,
   "metadata": {},
   "outputs": [
    {
     "data": {
      "text/plain": [
       "0.34971953827452806"
      ]
     },
     "execution_count": 153,
     "metadata": {},
     "output_type": "execute_result"
    }
   ],
   "source": [
    "knn.score(X_test, y_test)"
   ]
  },
  {
   "cell_type": "markdown",
   "metadata": {},
   "source": [
    "[Map-CDC Social Vulnerability Index 2018 PART 1\n",
    "Jefferson County, Kentucky](https://svi.cdc.gov/Documents/CountyMaps/2018/Kentucky/Kentucky2018_Jefferson.pdf)"
   ]
  },
  {
   "cell_type": "markdown",
   "metadata": {},
   "source": [
    "To view other counties click [here](https://svi.cdc.gov/prepared-county-maps.html)"
   ]
  },
  {
   "cell_type": "code",
   "execution_count": null,
   "metadata": {},
   "outputs": [],
   "source": []
  }
 ],
 "metadata": {
  "kernelspec": {
   "display_name": "Python 3",
   "language": "python",
   "name": "python3"
  },
  "language_info": {
   "codemirror_mode": {
    "name": "ipython",
    "version": 3
   },
   "file_extension": ".py",
   "mimetype": "text/x-python",
   "name": "python",
   "nbconvert_exporter": "python",
   "pygments_lexer": "ipython3",
   "version": "3.8.5"
  }
 },
 "nbformat": 4,
 "nbformat_minor": 4
}
